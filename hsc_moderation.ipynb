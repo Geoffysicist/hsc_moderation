{
 "cells": [
  {
   "cell_type": "markdown",
   "metadata": {},
   "source": [
    "# Analysis of HSC moderation of tied marks\n",
    "\n",
    "## Summary\n",
    "If school based assessment results in tied marks for first place, there is an overall benefit to the moderated HSC scores of the class if some means is used to separate the students. However, this process advantages highly ranked students at the expense of lower ranked students and has no educational jsutification.\n",
    "\n",
    "## Rationale\n",
    "\n",
    "Every year, around the end of term 3, there is a lot of discussion around the subject of what to do if two HSC students are tied for first place after school based assessment. This discussion arises from a perception that the [algorithm used by NESA to moderate school marks](https://educationstandards.nsw.edu.au/wps/portal/nesa/11-12/hsc/about-HSC/moderation), in light of the students' HSC examination performance, disadvantages students if tied results ae submitted. One school of thought dictates that students should be separated by some means, valid ortherwise. The alternative view is that separating students has no educational nor moral justification.\n",
    "\n",
    "This analysis focusses on the effect of spearating students on their final scores and the scores of other students in the class. Questions of whether such actions are justified are addressed at the end of the analysis.\n",
    "\n",
    "## Method\n",
    "The effect of NESA moderation on tied marks is explored using a Python based simulation. A class of size `n` is assumed to have a normally distributed school based assessment with a specified `mean` and standard variation, `sd`. In one case, `school_scores_tied`, the scores are manipulated to ensure that the two top students are equal. In the alternative case `school_scores_sep`, the scores are separated by adding 1 mark to the score of one of the top students.\n",
    "\n",
    "HSC examination scores are assumed to have a normally distributed variation from the school assessment scores with a standard deviation of `sd_imp`. The parameter `mean_imp` can be used to specify a mean improvement in examination scores relative to school assessment - this parameter can be positive, negative or 0.\n",
    "\n",
    "This analysis is initially completed once and the moderated scores of the tied group is compared to that of the spearated group to allow a visual appreciation of the effect of moderation. Because of the random generation, the results of this analysis change each time the analysis is run.\n",
    "\n",
    "The analysis is then completed `runs` times, and the average effect of the moderation process on the scores of the tied and separated groups are compared by rank.\n",
    "\n",
    "### Moderation algorithm\n",
    "\n",
    "Moderation is achieved through a second order polynomial whereby the input x values are the school assessment scores and the output y values are the moderated schores. The coefficients of the polynomial are determined by fitting a curve to the following 3 [x,y] pairs:\n",
    "\n",
    "- [school minimum score, exam minimum score]\n",
    "- [school mean score, exam mean score]\n",
    "- [school maximum score, exam maximum score]\n",
    "\n",
    "### Analysis\n",
    "First we need to set up the python environment - you can ignore this stuff"
   ]
  },
  {
   "cell_type": "code",
   "execution_count": 1,
   "metadata": {},
   "outputs": [],
   "source": [
    "import numpy as np\n",
    "import matplotlib.pyplot as plt\n",
    "\n",
    "# function to calculate the stats needed to fit the polynomial\n",
    "def get_stats(in_array, tied = False):\n",
    "    if tied:\n",
    "        # in the case of tied rankings NESA averages the two top exam marks before fitting the polynomial\n",
    "        # need to calculate this tied mark before calculating poly_fit_tied\n",
    "        in_array = np.sort(in_array)\n",
    "        top_mark = np.rint((in_array[n-2] + in_array[n-1])/2)\n",
    "        stats = np.array([np.amin(in_array), np.rint(np.mean(in_array)), top_mark])\n",
    "    else:\n",
    "        stats = np.array([np.amin(in_array), np.rint(np.mean(in_array)), np.amax(in_array)])\n",
    "    return stats"
   ]
  },
  {
   "cell_type": "markdown",
   "metadata": {},
   "source": [
    "Assumptions which can be adjusted by altering the variables in the code box below:\n",
    "\n",
    "- n = 12; the number of students in the class\n",
    "- mean = 65; the mean school assessment score\n",
    "- sd = 15; the standard deviation of the school assessment scores\n",
    "- school_max = 95; the maximum value for the school based asessment. Keep less than 100\n",
    "- mean_imp = 5; the mean of the improvement in HSC examination scores compared to school based assessment. This can be set to a positive or negative value.\n",
    "- sd_imp = 7; the standard deviastion of the improvement in HSC examination scores compared to school based assessment. \n"
   ]
  },
  {
   "cell_type": "code",
   "execution_count": 2,
   "metadata": {},
   "outputs": [],
   "source": [
    "n = 12\n",
    "mean = 65\n",
    "sd = 15\n",
    "mean_imp = 5\n",
    "sd_imp = 7\n",
    "school_max = 95"
   ]
  },
  {
   "cell_type": "markdown",
   "metadata": {},
   "source": [
    "Create the school assessment array consisting of n-1 integer scores (we will limit the maximum score to `school_max`)."
   ]
  },
  {
   "cell_type": "code",
   "execution_count": 3,
   "metadata": {},
   "outputs": [
    {
     "name": "stdout",
     "output_type": "stream",
     "text": [
      "n-1 school scores: [39. 47. 48. 51. 56. 59. 59. 62. 74. 75. 92.]\n"
     ]
    }
   ],
   "source": [
    "school_scores = np.random.normal(mean, sd, n-1)\n",
    "school_scores = np.rint(school_scores) #convert to integer scores\n",
    "# make sure no value is greater than school_max - 1\n",
    "school_scores = np.minimum(school_scores, school_max-1)\n",
    "school_scores = np.sort(school_scores)\n",
    "\n",
    "print(f'n-1 school scores: {school_scores}')"
   ]
  },
  {
   "cell_type": "markdown",
   "metadata": {},
   "source": [
    "Add the top score. We create 1 group with a tied top score (`school_score_tied`), and a second group with a top score that hase been increased by one (`school_score_sep`)."
   ]
  },
  {
   "cell_type": "code",
   "execution_count": 4,
   "metadata": {},
   "outputs": [
    {
     "name": "stdout",
     "output_type": "stream",
     "text": [
      "tied school scores:      [39. 47. 48. 51. 56. 59. 59. 62. 74. 75. 92. 92.]\n",
      "separated school scores: [39. 47. 48. 51. 56. 59. 59. 62. 74. 75. 92. 93.]\n"
     ]
    }
   ],
   "source": [
    "school_score_tied = np.append(school_scores, np.amax(school_scores))\n",
    "print(f'tied school scores:      {school_score_tied}')\n",
    "school_score_sep = np.append(school_scores, np.amax(school_scores)+1)\n",
    "print(f'separated school scores: {school_score_sep}')"
   ]
  },
  {
   "cell_type": "markdown",
   "metadata": {},
   "source": [
    "Create an array of HSC exam scores by randomly varying the the school scores by a mean of `mean_imp` with a standard deviation of `sd_imp`. A crude limit is imposed to ensure that no exam score exceeds 99."
   ]
  },
  {
   "cell_type": "code",
   "execution_count": 10,
   "metadata": {},
   "outputs": [
    {
     "name": "stdout",
     "output_type": "stream",
     "text": [
      "tied school scores:      [27. 47. 48. 51. 55. 57. 66. 71. 74. 86. 88. 88.]\n",
      "separated school scores: [27. 47. 48. 51. 55. 57. 66. 71. 74. 86. 88. 89.]\n",
      "exam scores:             [28. 58. 49. 67. 48. 49. 68. 79. 81. 98. 89. 95.]\n"
     ]
    }
   ],
   "source": [
    "exam_scores = school_score_tied + np.random.normal(mean_imp, sd_imp, n)\n",
    "exam_scores = np.minimum(exam_scores, 99)\n",
    "exam_scores = np.rint(exam_scores)\n",
    "print(f'tied school scores:      {school_score_tied}')\n",
    "print(f'separated school scores: {school_score_sep}')\n",
    "print(f'exam scores:             {exam_scores}')"
   ]
  },
  {
   "cell_type": "markdown",
   "metadata": {},
   "source": [
    "Moderate the school scores by adjusting the school assessment minimum, mean and maximum to the exam score minimum, mean and maximum then moderating the school assessment using a second order polynomial."
   ]
  },
  {
   "cell_type": "code",
   "execution_count": 11,
   "metadata": {},
   "outputs": [
    {
     "name": "stdout",
     "output_type": "stream",
     "text": [
      "tied scores statistics:      min = 27.0, mean = 63.0, max = 88.0\n",
      "separated scores statistics: min = 27.0, mean = 63.0, max = 89.0\n",
      "exam scores statistics:      min = 28.0, mean = 67.0, max = 98.0\n",
      "tied exam scores statistics: min = 28.0, mean = 67.0, max = 96.0\n",
      "moderated marks for tied group:      [28. 49. 50. 54. 58. 60. 70. 76. 80. 94. 96. 96.]\n",
      "moderated marks for separated group: [28. 49. 50. 53. 58. 60. 70. 76. 80. 94. 97. 98.]\n"
     ]
    }
   ],
   "source": [
    "stats_tied = get_stats(school_score_tied)\n",
    "print(f'tied scores statistics:      min = {stats_tied[0]}, mean = {stats_tied[1]}, max = {stats_tied[2]}')\n",
    "stats_sep = get_stats(school_score_sep)\n",
    "print(f'separated scores statistics: min = {stats_sep[0]}, mean = {stats_sep[1]}, max = {stats_sep[2]}')\n",
    "stats_exam = get_stats(exam_scores)\n",
    "print(f'exam scores statistics:      min = {stats_exam[0]}, mean = {stats_exam[1]}, max = {stats_exam[2]}')\n",
    "stats_exam_tied = get_stats(exam_scores, tied=True)\n",
    "print(f'tied exam scores statistics: min = {stats_exam_tied[0]}, mean = {stats_exam_tied[1]}, max = {stats_exam_tied[2]}')\n",
    "\n",
    "#calculate the polynomial coefficients\n",
    "poly_fit_tied = np.polyfit(stats_tied, stats_exam_tied, 2)\n",
    "poly_fit_sep = np.polyfit(stats_sep, stats_exam, 2)\n",
    "\n",
    "moderated_tied = poly_fit_tied[0]*np.power(school_score_tied, 2)+ poly_fit_tied[1]*school_score_tied + poly_fit_tied[2]\n",
    "moderated_tied = np.rint(moderated_tied)\n",
    "print(f'moderated marks for tied group:      {moderated_tied}')\n",
    "moderated_sep = poly_fit_sep[0]*np.power(school_score_sep, 2)+ poly_fit_sep[1]*school_score_sep + poly_fit_sep[2]\n",
    "moderated_sep = np.rint(moderated_sep)\n",
    "print(f'moderated marks for separated group: {moderated_sep}')"
   ]
  },
  {
   "cell_type": "markdown",
   "metadata": {},
   "source": [
    "Compare the resultant moderated and school scores for the tied group (blue) and the separated group (red)"
   ]
  },
  {
   "cell_type": "code",
   "execution_count": 12,
   "metadata": {},
   "outputs": [
    {
     "data": {
      "text/plain": [
       "<matplotlib.collections.PathCollection at 0x1cd23ef2d48>"
      ]
     },
     "execution_count": 12,
     "metadata": {},
     "output_type": "execute_result"
    },
    {
     "data": {
      "image/png": "[encoded data removed]",
      "text/plain": [
       "<Figure size 432x288 with 1 Axes>"
      ]
     },
     "metadata": {
      "needs_background": "light"
     },
     "output_type": "display_data"
    }
   ],
   "source": [
    "plt.scatter(school_score_tied, moderated_tied, c='blue')\n",
    "plt.scatter(school_score_sep, moderated_sep, c='red')\n"
   ]
  },
  {
   "cell_type": "markdown",
   "metadata": {},
   "source": [
    "Compare the result for each student under each scenario. "
   ]
  },
  {
   "cell_type": "code",
   "execution_count": 13,
   "metadata": {},
   "outputs": [
    {
     "name": "stdout",
     "output_type": "stream",
     "text": [
      "Effect on moderated mark as a result of spearating the top students. Listed in reverse rank order\n",
      "[ 0.  0.  0. -1.  0.  0.  0.  0.  0.  0.  1.  2.]\n"
     ]
    }
   ],
   "source": [
    "compare_tied_sep = moderated_sep - moderated_tied\n",
    "print(f'Effect on moderated mark as a result of spearating the top students. Listed in reverse rank order')\n",
    "print(f'{compare_tied_sep}')"
   ]
  },
  {
   "cell_type": "markdown",
   "metadata": {},
   "source": [
    "Now lets do this `runs` times and see who the winners and losers are."
   ]
  },
  {
   "cell_type": "code",
   "execution_count": 14,
   "metadata": {},
   "outputs": [
    {
     "data": {
      "text/plain": [
       "Text(0.5, 1.0, 'Effect of separating tied first placegetters')"
      ]
     },
     "execution_count": 14,
     "metadata": {},
     "output_type": "execute_result"
    },
    {
     "data": {
      "image/png": "[encoded data removed]",
      "text/plain": [
       "<Figure size 432x288 with 1 Axes>"
      ]
     },
     "metadata": {
      "needs_background": "light"
     },
     "output_type": "display_data"
    }
   ],
   "source": [
    "runs = 1000\n",
    "compare_cumulative = np.empty(n)\n",
    "\n",
    "for r in range(runs):\n",
    "    school_scores = np.random.normal(mean, sd, n-1)\n",
    "    school_scores = np.rint(school_scores) #convert to integer scores\n",
    "    # make sure no value is greater than school_max\n",
    "    school_scores = np.minimum(school_scores, school_max-1)\n",
    "    school_scores = np.sort(school_scores)\n",
    "    \n",
    "    school_score_tied = np.append(school_scores, np.amax(school_scores))\n",
    "    school_score_sep = np.append(school_scores, np.amax(school_scores)+1)\n",
    "    \n",
    "    exam_scores = school_score_tied + np.random.normal(mean_imp, sd_imp, n)\n",
    "    exam_scores = np.minimum(exam_scores, 99)\n",
    "    exam_scores = np.rint(exam_scores)\n",
    "\n",
    "    stats_tied = get_stats(school_score_tied)\n",
    "    stats_sep = get_stats(school_score_sep)\n",
    "    stats_exam = get_stats(exam_scores)\n",
    "    stats_exam_tied = get_stats(exam_scores, tied=True)\n",
    "\n",
    "    #calculate the polynomial coefficients\n",
    "    poly_fit_tied = np.polyfit(stats_tied, stats_exam_tied, 2)\n",
    "    poly_fit_sep = np.polyfit(stats_sep, stats_exam, 2)\n",
    "\n",
    "    moderated_tied = poly_fit_tied[0]*np.power(school_score_tied, 2)+ poly_fit_tied[1]*school_score_tied + poly_fit_tied[2]\n",
    "    moderated_tied = np.rint(moderated_tied)\n",
    "    moderated_sep = poly_fit_sep[0]*np.power(school_score_sep, 2)+ poly_fit_sep[1]*school_score_sep + poly_fit_sep[2]\n",
    "    moderated_sep = np.rint(moderated_sep)\n",
    "    compare_tied_sep = moderated_sep - moderated_tied\n",
    "\n",
    "    compare_cumulative = compare_cumulative + compare_tied_sep\n",
    "\n",
    "compare_cumulative = np.flip(compare_cumulative)\n",
    "plt.bar(np.arange(n) + 1, compare_cumulative / runs)\n",
    "plt.xlabel('school rank')\n",
    "plt.ylabel(f'mean benefit over {runs} runs')\n",
    "plt.title('Effect of separating tied first placegetters')"
   ]
  },
  {
   "cell_type": "markdown",
   "metadata": {},
   "source": [
    "## Interpretation of results\n",
    "\n",
    "The plot above shows the mean benefit by rank for the multiple runs. Each time this analysis hase been run, it is clear that separating tied students benefits the group overall, but the benefit is significantly skewed towards the better ranked students at the expense of those with lower ranks. Splitting top students who would otherwise be tied has no educational justification, but teachers may be able to justify it on the basis of an overall benefit to the class. However they need to acknowledge that by doing so they are in all likelyhood disadvantaging the lower ranked students.\n",
    "\n",
    "\"to the one who has, more will be given, and from the one who has not, even what he thinks that he has will be taken away.\""
   ]
  },
  {
   "cell_type": "code",
   "execution_count": null,
   "metadata": {},
   "outputs": [],
   "source": []
  }
 ],
 "metadata": {
  "kernelspec": {
   "display_name": "Python 3",
   "language": "python",
   "name": "python3"
  },
  "language_info": {
   "codemirror_mode": {
    "name": "ipython",
    "version": 3
   },
   "file_extension": ".py",
   "mimetype": "text/x-python",
   "name": "python",
   "nbconvert_exporter": "python",
   "pygments_lexer": "ipython3",
   "version": "3.7.9"
  }
 },
 "nbformat": 4,
 "nbformat_minor": 4
}
