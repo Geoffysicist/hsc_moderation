{
 "cells": [
  {
   "cell_type": "markdown",
   "metadata": {},
   "source": [
    "# Analysis of HSC moderation of tied marks\n",
    "\n",
    "## Summary\n",
    "If school based assessment results in tied marks for first place, there is an overall benefit to the moderated HSC scores of the class if some means is used to separate the students. However, this process advantages highly ranked students at the expense of lower ranked students and has no educational jsutification.\n",
    "\n",
    "## Rationale\n",
    "\n",
    "Every year, around the end of term 3, there is a lot of discussion around the topic of what to do if two or more HSC students are tied for first place after school based assessment. This discussion arises from a perception that the [algorithm used by NESA to moderate school marks](https://educationstandards.nsw.edu.au/wps/portal/nesa/11-12/hsc/about-HSC/moderation), based on students' HSC examination performance, disadvantages students if tied results ae submitted. The dominant view dictates that students should be separated by some means, valid ortherwise. The alternative view is that separating students has no educational nor moral justification.\n",
    "\n",
    "This analysis compares the effect of submitting tied top scores against the effect of separating them. Questions of whether such actions are justified are addressed at the end of the analysis.\n"
   ]
  },
  {
   "cell_type": "markdown",
   "metadata": {},
   "source": [
    "## Method\n",
    "The effect of NESA moderation on tied marks is explored using a Python simulation. A class of size `n` is assumed to have a normally distributed school based assessment with a specified `mean` and standard variation, `sd`. A set of school scores with at least 2 students on equal top mark is generated `school_scores`. This set of scores is then copies and the top places separated by adding 1 mark to the score of one of the top students `school_scores_split`.\n",
    "\n",
    "HSC examination scores are assumed to have a normally distributed variation from the school assessment scores with a standard deviation of `sd_delta`. The parameter `mean_delta` can be used to specify a mean change in examination scores relative to school assessment - this parameter can be positive, negative or 0.\n",
    "\n",
    "This analysis is initially completed once and the moderated scores of the tied group is compared to that of the separated group to allow a visual appreciation of the effect of moderation. Because of the random generation, the results of this analysis change each time the analysis is run.\n",
    "\n",
    "The analysis is then completed `runs` times, and the average effect of the moderation process on the scores of the tied and separated groups are compared by rank.\n",
    "\n",
    "### Moderation algorithm\n",
    "\n",
    "Moderation is achieved through a second order polynomial which maps the maximum, minimum and mean of the school scores to the maximum, minimum and mean of the exam scores. An overview of the moderation provess is given on the [NESA Moderation page](https://educationstandards.nsw.edu.au/wps/portal/nesa/11-12/hsc/about-HSC/moderation) and a more detailed description of the algorithms is given in [MacCaan 1995](docs/MacCann RG, Moderation Technical Paper 1995 Board of Studies NSW.pdf)."
   ]
  },
  {
   "cell_type": "markdown",
   "metadata": {},
   "source": [
    "### Analysis\n",
    "First we need to set up the python functions - you can ignore this stuff if you like and skip to the next section. However if you are interested in the implementation code, or would like to help me refine it or remove possible bugs, please read on. I have tried to make it as well commented as possible."
   ]
  },
  {
   "cell_type": "code",
   "execution_count": 1,
   "metadata": {},
   "outputs": [],
   "source": [
    "def test_min_max(in_array, min_limit, max_limit):\n",
    "    '''Checks whether a numpy array is within defined limits.\n",
    "    '''\n",
    "    return ((np.min(in_array) >= min_limit) and (np.max(in_array) <= max_limit))\n",
    "\n",
    "\n",
    "def test_tied_condition(in_array, tied):\n",
    "    ''' test whether the scores are tied as specified.\n",
    "\n",
    "    Args:\n",
    "        in_array (numpy array) - array to be checked\n",
    "        tied (string) - a string describing the different tied states.\n",
    "                valid values are:\n",
    "                    'normal' no restriction on tied scores\n",
    "                    'none' tied scores not allowed\n",
    "                    'pair' exactly 2 tied scores required\n",
    "                    'triple' exactly 3 tied scores required\n",
    "                    'tie' if 2 or more tied scores required\n",
    "    '''\n",
    "    \n",
    "    if tied in ('tie', 'pair', 'triple'):\n",
    "        if tied == 'pair':\n",
    "            return ((in_array[0] == in_array[1]) and (in_array[1] != in_array[2]))\n",
    "        elif tied == 'triple':\n",
    "            return (in_array[0] == in_array[2])\n",
    "        else:\n",
    "            return (in_array[0] == in_array[1])\n",
    "    elif tied == 'none':\n",
    "        return (in_array[0] != in_array[1])\n",
    "    else:\n",
    "        return True\n",
    "\n",
    "\n",
    "def generate_class_scores(n, mean, sd, min_score= 0, max_score= 100, tied='normal'):\n",
    "    '''Generates randomly distributed class scores.\n",
    "\n",
    "    Args:\n",
    "        n (int > 3): number of students in the class\n",
    "        mean (int): the arithmetic mean of the scores\n",
    "        sd (float): the standard distribution of the scores\n",
    "        mimin_scoren (int): the minimum allowable score\n",
    "        max_score (int): the maximum allowable score\n",
    "        tied (str): 'normal' no restriction on tied scores,\n",
    "                    'none' tied scores not allowed\n",
    "                    'pair' exactly 2 tied scores required\n",
    "                    'triple' exactly 3 tied scores required\n",
    "                    'tie' if 2 or more tied scores required\n",
    "\n",
    "    Returns:\n",
    "        class_scores (numpy array): the class scores.\n",
    "    '''\n",
    "\n",
    "    conditions_met = False\n",
    "\n",
    "    while not conditions_met:\n",
    "\n",
    "        class_scores = np.random.normal(mean, sd, n)\n",
    "        class_scores = np.flip(np.sort(class_scores)) # order highest to lowest\n",
    "        class_scores = np.rint(class_scores)\n",
    "\n",
    "        conditions_met = test_min_max(class_scores, min_score, max_score)\n",
    "\n",
    "        if conditions_met:\n",
    "            conditions_met = test_tied_condition(class_scores, tied)\n",
    "\n",
    "\n",
    "    return class_scores\n",
    "\n",
    "\n",
    "def generate_exam_scores(scores, mean_delta, sd_delta):\n",
    "    conditions_met = False\n",
    "\n",
    "    while not conditions_met:\n",
    "        exam = np.rint(scores + np.random.normal(mean_delta, sd_delta, n))\n",
    "        conditions_met = test_min_max(exam, 0, 100)\n",
    "        \n",
    "    return exam\n",
    "\n",
    "def check_ties(school, exam):\n",
    "    # first sort then\n",
    "    # if school scores are tied, recalculate the maximum exam score\n",
    "    exam_checked = np.flip(np.sort(exam))\n",
    "    n = np.size(school) - 1\n",
    "    tied_firsts = 0\n",
    "    tied_lasts = 0\n",
    "    for i in range(1,n):\n",
    "        if school[0] == school[i]:\n",
    "            tied_firsts = i\n",
    "        if school[n] == school[n-i]:\n",
    "            tied_lasts = i\n",
    "    \n",
    "    if tied_firsts:\n",
    "        high_score = np.sum(exam_checked[:tied_firsts+1])/(tied_firsts + 1)\n",
    "        exam_checked[:tied_firsts+1] = high_score\n",
    "        print(f'{tied_firsts} tied firsts, marks adjusted: {exam_checked}')\n",
    "\n",
    "    if tied_lasts:\n",
    "        low_score = np.sum(exam_checked[n-tied_lasts:])/(tied_lasts + 1)\n",
    "        exam_checked[n-tied_lasts:] = low_score\n",
    "        print(f'{tied_lasts} tied lasts, marks adjusted: {exam_checked}')\n",
    "\n",
    "\n",
    "    return exam_checked\n",
    " \n",
    "def get_stats(in_array):\n",
    "    ''' Calculate the descriptive stats of a numpy array\n",
    "\n",
    "    Args:\n",
    "        in_array (numpy array) - data to be described\n",
    "\n",
    "    Returns:\n",
    "        stats_array (numpy array) - an array containing the max, min, mean\n",
    "            standard deviation and sum of the input array\n",
    "    '''\n",
    "    stats_array = np.array([np.amax(in_array),\n",
    "                    np.amin(in_array), \n",
    "                    np.mean(in_array), \n",
    "                    np.std(in_array), \n",
    "                    np.sum(in_array)])\n",
    "\n",
    "    return stats_array\n",
    "\n",
    "def moderate(school, exam):\n",
    "    school_stats = get_stats(school)\n",
    "    school_max = school_stats[0]\n",
    "    school_min = school_stats[1]\n",
    "    school_mean = school_stats[2]\n",
    "    school_sd = school_stats[3]\n",
    "    exam_stats = get_stats(exam)\n",
    "    exam_max = exam_stats[0]\n",
    "    exam_min = exam_stats[1]\n",
    "    exam_mean = exam_stats[2]\n",
    "    n = np.size(school)\n",
    "\n",
    "    # start with special cases\n",
    "    # n = 1\n",
    "    if n == 1:\n",
    "        moderated = exam\n",
    "\n",
    "    # n = 2\n",
    "    elif n == 2:\n",
    "        mod_min = max(exam_min, (school_min/school_max)*exam_max)\n",
    "        moderated = np.array([exam_max, mod_min])\n",
    "    \n",
    "    # all school ranks tied\n",
    "    elif school_max == school_min:\n",
    "        moderated = np.mean(exam)\n",
    "\n",
    "    else:\n",
    "        # n > 2 but only 2 distinct values\n",
    "        if np.size(np.unique(school)) == 2:\n",
    "            a = 0\n",
    "            b = (exam_max - exam_min) / (school_max - school_min)\n",
    "            c = exam_min - b * school_min\n",
    "\n",
    "        # ya normal case\n",
    "        else:\n",
    "            # TODO make this more elegant\n",
    "            exam = check_ties(school, exam)\n",
    "            exam_stats = get_stats(exam)\n",
    "            exam_max = exam_stats[0]\n",
    "            exam_min = exam_stats[1]\n",
    "            exam_mean = exam_stats[2]\n",
    "    \n",
    "            a_num = exam_max*(school_min-school_mean) - exam_min*(school_max-school_mean) + exam_mean*(school_max-school_min)\n",
    "            a_denom = (school_max-school_min)*(school_sd**2 + (school_max-school_mean)*(school_min-school_mean))\n",
    "            a = a_num/a_denom\n",
    "\n",
    "            b = (exam_min - exam_mean - a*(school_min**2-school_mean**2-school_sd**2))/(school_min-school_mean)\n",
    "\n",
    "            c = exam_min - school_min*(a*school_min + b)\n",
    "        \n",
    "        moderated = np.rint(np.polyval([a,b,c],school))\n",
    "\n",
    "    return moderated\n",
    "  "
   ]
  },
  {
   "cell_type": "markdown",
   "metadata": {},
   "source": [
    "Assumptions which can be adjusted by altering the variables in the code box below:\n",
    "\n",
    "- n = 15; the number of students in the class\n",
    "- mean = 65; the mean school assessment score\n",
    "- sd = 15; the standard deviation of the school assessment scores\n",
    "- school_max = 95; the maximum value for the school based asessment. Keep less than 100\n",
    "- mean_imp = 5; the mean of the improvement in HSC examination scores compared to school based assessment. This can be set to a positive or negative value.\n",
    "- sd_imp = 7; the standard deviastion of the improvement in HSC examination scores compared to school based assessment. \n"
   ]
  },
  {
   "cell_type": "code",
   "execution_count": 3,
   "metadata": {},
   "outputs": [],
   "source": [
    "n = 15\n",
    "mean = 65\n",
    "sd = 15\n",
    "mean_delta = 4\n",
    "sd_delta = 5\n",
    "school_max = 95\n"
   ]
  },
  {
   "cell_type": "markdown",
   "metadata": {},
   "source": [
    "Create the school assessment array consisting of n-1 integer scores (we will limit the maximum score to `school_max`)."
   ]
  },
  {
   "cell_type": "code",
   "execution_count": 4,
   "metadata": {
    "tags": []
   },
   "outputs": [
    {
     "output_type": "stream",
     "name": "stdout",
     "text": "n-1 school scores: [32. 44. 52. 54. 62. 65. 66. 66. 78. 90. 92.]\n"
    }
   ],
   "source": [
    "school_scores = np.random.normal(mean, sd, n-1)\n",
    "school_scores = np.rint(school_scores) #convert to integer scores\n",
    "# make sure no value is greater than school_max - 1\n",
    "school_scores = np.minimum(school_scores, school_max-1)\n",
    "school_scores = np.sort(school_scores)\n",
    "\n",
    "print(f'n-1 school scores: {school_scores}')"
   ]
  },
  {
   "cell_type": "markdown",
   "metadata": {},
   "source": [
    "Add the top score. We create 1 group with a tied top score (`school_score_tied`), and a second group with a top score that hase been increased by one (`school_score_sep`)."
   ]
  },
  {
   "cell_type": "code",
   "execution_count": 5,
   "metadata": {
    "tags": []
   },
   "outputs": [
    {
     "output_type": "stream",
     "name": "stdout",
     "text": "tied school scores:      [32. 44. 52. 54. 62. 65. 66. 66. 78. 90. 92. 92.]\nseparated school scores: [32. 44. 52. 54. 62. 65. 66. 66. 78. 90. 92. 93.]\n"
    }
   ],
   "source": [
    "school_score_tied = np.append(school_scores, np.amax(school_scores))\n",
    "print(f'tied school scores:      {school_score_tied}')\n",
    "school_score_sep = np.append(school_scores, np.amax(school_scores)+1)\n",
    "print(f'separated school scores: {school_score_sep}')"
   ]
  },
  {
   "cell_type": "markdown",
   "metadata": {},
   "source": [
    "Create an array of HSC exam scores by randomly varying the the school scores by a mean of `mean_imp` with a standard deviation of `sd_imp`. A crude limit is imposed to ensure that no exam score exceeds 99."
   ]
  },
  {
   "cell_type": "code",
   "execution_count": 6,
   "metadata": {
    "tags": []
   },
   "outputs": [
    {
     "output_type": "stream",
     "name": "stdout",
     "text": "tied school scores:      [32. 44. 52. 54. 62. 65. 66. 66. 78. 90. 92. 92.]\nseparated school scores: [32. 44. 52. 54. 62. 65. 66. 66. 78. 90. 92. 93.]\nexam scores:             [43. 33. 53. 48. 71. 69. 71. 77. 83. 98. 98. 99.]\n"
    }
   ],
   "source": [
    "exam_scores = school_score_tied + np.random.normal(mean_imp, sd_imp, n)\n",
    "exam_scores = np.minimum(exam_scores, 99)\n",
    "exam_scores = np.rint(exam_scores)\n",
    "print(f'tied school scores:      {school_score_tied}')\n",
    "print(f'separated school scores: {school_score_sep}')\n",
    "print(f'exam scores:             {exam_scores}')"
   ]
  },
  {
   "cell_type": "markdown",
   "metadata": {},
   "source": [
    "Moderate the school scores by adjusting the school assessment minimum, mean and maximum to the exam score minimum, mean and maximum then moderating the school assessment using a second order polynomial."
   ]
  },
  {
   "cell_type": "code",
   "execution_count": 7,
   "metadata": {
    "tags": []
   },
   "outputs": [
    {
     "output_type": "stream",
     "name": "stdout",
     "text": "tied scores statistics:      min = 32.0, mean = 66.0, max = 92.0\nseparated scores statistics: min = 32.0, mean = 66.0, max = 93.0\nexam scores statistics:      min = 33.0, mean = 70.0, max = 99.0\ntied exam scores statistics: min = 33.0, mean = 70.0, max = 98.0\nmoderated marks for tied group:      [33. 46. 55. 57. 66. 69. 70. 70. 83. 96. 98. 98.]\nmoderated marks for separated group: [33. 46. 55. 57. 66. 69. 70. 70. 83. 96. 98. 99.]\n"
    }
   ],
   "source": [
    "stats_tied = get_stats(school_score_tied)\n",
    "print(f'tied scores statistics:      min = {stats_tied[0]}, mean = {stats_tied[1]}, max = {stats_tied[2]}')\n",
    "stats_sep = get_stats(school_score_sep)\n",
    "print(f'separated scores statistics: min = {stats_sep[0]}, mean = {stats_sep[1]}, max = {stats_sep[2]}')\n",
    "stats_exam = get_stats(exam_scores)\n",
    "print(f'exam scores statistics:      min = {stats_exam[0]}, mean = {stats_exam[1]}, max = {stats_exam[2]}')\n",
    "stats_exam_tied = get_stats(exam_scores, tied=True)\n",
    "print(f'tied exam scores statistics: min = {stats_exam_tied[0]}, mean = {stats_exam_tied[1]}, max = {stats_exam_tied[2]}')\n",
    "\n",
    "#calculate the polynomial coefficients\n",
    "poly_fit_tied = np.polyfit(stats_tied, stats_exam_tied, 2)\n",
    "poly_fit_sep = np.polyfit(stats_sep, stats_exam, 2)\n",
    "\n",
    "moderated_tied = poly_fit_tied[0]*np.power(school_score_tied, 2)+ poly_fit_tied[1]*school_score_tied + poly_fit_tied[2]\n",
    "moderated_tied = np.rint(moderated_tied)\n",
    "print(f'moderated marks for tied group:      {moderated_tied}')\n",
    "moderated_sep = poly_fit_sep[0]*np.power(school_score_sep, 2)+ poly_fit_sep[1]*school_score_sep + poly_fit_sep[2]\n",
    "moderated_sep = np.rint(moderated_sep)\n",
    "print(f'moderated marks for separated group: {moderated_sep}')"
   ]
  },
  {
   "cell_type": "markdown",
   "metadata": {},
   "source": [
    "Compare the resultant moderated and school scores for the tied group (blue) and the separated group (red)"
   ]
  },
  {
   "cell_type": "code",
   "execution_count": 8,
   "metadata": {},
   "outputs": [
    {
     "output_type": "execute_result",
     "data": {
      "text/plain": "<matplotlib.collections.PathCollection at 0x208d0fe20c8>"
     },
     "metadata": {},
     "execution_count": 8
    },
    {
     "output_type": "display_data",
     "data": {
      "text/plain": "<Figure size 432x288 with 1 Axes>",
      "image/svg+xml": "<?xml version=\"1.0\" encoding=\"utf-8\" standalone=\"no\"?>\r\n<!DOCTYPE svg PUBLIC \"-//W3C//DTD SVG 1.1//EN\"\r\n  \"http://www.w3.org/Graphics/SVG/1.1/DTD/svg11.dtd\">\r\n<!-- Created with matplotlib (https://matplotlib.org/) -->\r\n<svg height=\"248.518125pt\" version=\"1.1\" viewBox=\"0 0 375.2875 248.518125\" width=\"375.2875pt\" xmlns=\"http://www.w3.org/2000/svg\" xmlns:xlink=\"http://www.w3.org/1999/xlink\">\r\n <metadata>\r\n  <rdf:RDF xmlns:cc=\"http://creativecommons.org/ns#\" xmlns:dc=\"http://purl.org/dc/elements/1.1/\" xmlns:rdf=\"http://www.w3.org/1999/02/22-rdf-syntax-ns#\">\r\n   <cc:Work>\r\n    <dc:type rdf:resource=\"http://purl.org/dc/dcmitype/StillImage\"/>\r\n    <dc:date>2020-09-08T15:43:10.208190</dc:date>\r\n    <dc:format>image/svg+xml</dc:format>\r\n    <dc:creator>\r\n     <cc:Agent>\r\n      <dc:title>Matplotlib v3.3.1, https://matplotlib.org/</dc:title>\r\n     </cc:Agent>\r\n    </dc:creator>\r\n   </cc:Work>\r\n  </rdf:RDF>\r\n </metadata>\r\n <defs>\r\n  <style type=\"text/css\">*{stroke-linecap:butt;stroke-linejoin:round;}</style>\r\n </defs>\r\n <g id=\"figure_1\">\r\n  <g id=\"patch_1\">\r\n   <path d=\"M 0 248.518125 \r\nL 375.2875 248.518125 \r\nL 375.2875 0 \r\nL 0 0 \r\nz\r\n\" style=\"fill:none;\"/>\r\n  </g>\r\n  <g id=\"axes_1\">\r\n   <g id=\"patch_2\">\r\n    <path d=\"M 33.2875 224.64 \r\nL 368.0875 224.64 \r\nL 368.0875 7.2 \r\nL 33.2875 7.2 \r\nz\r\n\" style=\"fill:#ffffff;\"/>\r\n   </g>\r\n   <g id=\"PathCollection_1\">\r\n    <defs>\r\n     <path d=\"M 0 3 \r\nC 0.795609 3 1.55874 2.683901 2.12132 2.12132 \r\nC 2.683901 1.55874 3 0.795609 3 0 \r\nC 3 -0.795609 2.683901 -1.55874 2.12132 -2.12132 \r\nC 1.55874 -2.683901 0.795609 -3 0 -3 \r\nC -0.795609 -3 -1.55874 -2.683901 -2.12132 -2.12132 \r\nC -2.683901 -1.55874 -3 -0.795609 -3 0 \r\nC -3 0.795609 -2.683901 1.55874 -2.12132 2.12132 \r\nC -1.55874 2.683901 -0.795609 3 0 3 \r\nz\r\n\" id=\"m9956aa5c81\" style=\"stroke:#0000ff;\"/>\r\n    </defs>\r\n    <g clip-path=\"url(#p56b674ac16)\">\r\n     <use style=\"fill:#0000ff;stroke:#0000ff;\" x=\"48.505682\" xlink:href=\"#m9956aa5c81\" y=\"214.756364\"/>\r\n     <use style=\"fill:#0000ff;stroke:#0000ff;\" x=\"108.380496\" xlink:href=\"#m9956aa5c81\" y=\"175.820826\"/>\r\n     <use style=\"fill:#0000ff;stroke:#0000ff;\" x=\"148.297038\" xlink:href=\"#m9956aa5c81\" y=\"148.865455\"/>\r\n     <use style=\"fill:#0000ff;stroke:#0000ff;\" x=\"158.276174\" xlink:href=\"#m9956aa5c81\" y=\"142.875372\"/>\r\n     <use style=\"fill:#0000ff;stroke:#0000ff;\" x=\"198.192716\" xlink:href=\"#m9956aa5c81\" y=\"115.92\"/>\r\n     <use style=\"fill:#0000ff;stroke:#0000ff;\" x=\"213.16142\" xlink:href=\"#m9956aa5c81\" y=\"106.934876\"/>\r\n     <use style=\"fill:#0000ff;stroke:#0000ff;\" x=\"218.150987\" xlink:href=\"#m9956aa5c81\" y=\"103.939835\"/>\r\n     <use style=\"fill:#0000ff;stroke:#0000ff;\" x=\"218.150987\" xlink:href=\"#m9956aa5c81\" y=\"103.939835\"/>\r\n     <use style=\"fill:#0000ff;stroke:#0000ff;\" x=\"278.025801\" xlink:href=\"#m9956aa5c81\" y=\"65.004298\"/>\r\n     <use style=\"fill:#0000ff;stroke:#0000ff;\" x=\"337.900615\" xlink:href=\"#m9956aa5c81\" y=\"26.06876\"/>\r\n     <use style=\"fill:#0000ff;stroke:#0000ff;\" x=\"347.87975\" xlink:href=\"#m9956aa5c81\" y=\"20.078678\"/>\r\n     <use style=\"fill:#0000ff;stroke:#0000ff;\" x=\"347.87975\" xlink:href=\"#m9956aa5c81\" y=\"20.078678\"/>\r\n    </g>\r\n   </g>\r\n   <g id=\"PathCollection_2\">\r\n    <defs>\r\n     <path d=\"M 0 3 \r\nC 0.795609 3 1.55874 2.683901 2.12132 2.12132 \r\nC 2.683901 1.55874 3 0.795609 3 0 \r\nC 3 -0.795609 2.683901 -1.55874 2.12132 -2.12132 \r\nC 1.55874 -2.683901 0.795609 -3 0 -3 \r\nC -0.795609 -3 -1.55874 -2.683901 -2.12132 -2.12132 \r\nC -2.683901 -1.55874 -3 -0.795609 -3 0 \r\nC -3 0.795609 -2.683901 1.55874 -2.12132 2.12132 \r\nC -1.55874 2.683901 -0.795609 3 0 3 \r\nz\r\n\" id=\"m08508be6d1\" style=\"stroke:#ff0000;\"/>\r\n    </defs>\r\n    <g clip-path=\"url(#p56b674ac16)\">\r\n     <use style=\"fill:#ff0000;stroke:#ff0000;\" x=\"48.505682\" xlink:href=\"#m08508be6d1\" y=\"214.756364\"/>\r\n     <use style=\"fill:#ff0000;stroke:#ff0000;\" x=\"108.380496\" xlink:href=\"#m08508be6d1\" y=\"175.820826\"/>\r\n     <use style=\"fill:#ff0000;stroke:#ff0000;\" x=\"148.297038\" xlink:href=\"#m08508be6d1\" y=\"148.865455\"/>\r\n     <use style=\"fill:#ff0000;stroke:#ff0000;\" x=\"158.276174\" xlink:href=\"#m08508be6d1\" y=\"142.875372\"/>\r\n     <use style=\"fill:#ff0000;stroke:#ff0000;\" x=\"198.192716\" xlink:href=\"#m08508be6d1\" y=\"115.92\"/>\r\n     <use style=\"fill:#ff0000;stroke:#ff0000;\" x=\"213.16142\" xlink:href=\"#m08508be6d1\" y=\"106.934876\"/>\r\n     <use style=\"fill:#ff0000;stroke:#ff0000;\" x=\"218.150987\" xlink:href=\"#m08508be6d1\" y=\"103.939835\"/>\r\n     <use style=\"fill:#ff0000;stroke:#ff0000;\" x=\"218.150987\" xlink:href=\"#m08508be6d1\" y=\"103.939835\"/>\r\n     <use style=\"fill:#ff0000;stroke:#ff0000;\" x=\"278.025801\" xlink:href=\"#m08508be6d1\" y=\"65.004298\"/>\r\n     <use style=\"fill:#ff0000;stroke:#ff0000;\" x=\"337.900615\" xlink:href=\"#m08508be6d1\" y=\"26.06876\"/>\r\n     <use style=\"fill:#ff0000;stroke:#ff0000;\" x=\"347.87975\" xlink:href=\"#m08508be6d1\" y=\"20.078678\"/>\r\n     <use style=\"fill:#ff0000;stroke:#ff0000;\" x=\"352.869318\" xlink:href=\"#m08508be6d1\" y=\"17.083636\"/>\r\n    </g>\r\n   </g>\r\n   <g id=\"matplotlib.axis_1\">\r\n    <g id=\"xtick_1\">\r\n     <g id=\"line2d_1\">\r\n      <defs>\r\n       <path d=\"M 0 0 \r\nL 0 3.5 \r\n\" id=\"m99d1de6ac4\" style=\"stroke:#000000;stroke-width:0.8;\"/>\r\n      </defs>\r\n      <g>\r\n       <use style=\"stroke:#000000;stroke-width:0.8;\" x=\"38.526546\" xlink:href=\"#m99d1de6ac4\" y=\"224.64\"/>\r\n      </g>\r\n     </g>\r\n     <g id=\"text_1\">\r\n      <!-- 30 -->\r\n      <g transform=\"translate(32.164046 239.238437)scale(0.1 -0.1)\">\r\n       <defs>\r\n        <path d=\"M 40.578125 39.3125 \r\nQ 47.65625 37.796875 51.625 33 \r\nQ 55.609375 28.21875 55.609375 21.1875 \r\nQ 55.609375 10.40625 48.1875 4.484375 \r\nQ 40.765625 -1.421875 27.09375 -1.421875 \r\nQ 22.515625 -1.421875 17.65625 -0.515625 \r\nQ 12.796875 0.390625 7.625 2.203125 \r\nL 7.625 11.71875 \r\nQ 11.71875 9.328125 16.59375 8.109375 \r\nQ 21.484375 6.890625 26.8125 6.890625 \r\nQ 36.078125 6.890625 40.9375 10.546875 \r\nQ 45.796875 14.203125 45.796875 21.1875 \r\nQ 45.796875 27.640625 41.28125 31.265625 \r\nQ 36.765625 34.90625 28.71875 34.90625 \r\nL 20.21875 34.90625 \r\nL 20.21875 43.015625 \r\nL 29.109375 43.015625 \r\nQ 36.375 43.015625 40.234375 45.921875 \r\nQ 44.09375 48.828125 44.09375 54.296875 \r\nQ 44.09375 59.90625 40.109375 62.90625 \r\nQ 36.140625 65.921875 28.71875 65.921875 \r\nQ 24.65625 65.921875 20.015625 65.03125 \r\nQ 15.375 64.15625 9.8125 62.3125 \r\nL 9.8125 71.09375 \r\nQ 15.4375 72.65625 20.34375 73.4375 \r\nQ 25.25 74.21875 29.59375 74.21875 \r\nQ 40.828125 74.21875 47.359375 69.109375 \r\nQ 53.90625 64.015625 53.90625 55.328125 \r\nQ 53.90625 49.265625 50.4375 45.09375 \r\nQ 46.96875 40.921875 40.578125 39.3125 \r\nz\r\n\" id=\"DejaVuSans-51\"/>\r\n        <path d=\"M 31.78125 66.40625 \r\nQ 24.171875 66.40625 20.328125 58.90625 \r\nQ 16.5 51.421875 16.5 36.375 \r\nQ 16.5 21.390625 20.328125 13.890625 \r\nQ 24.171875 6.390625 31.78125 6.390625 \r\nQ 39.453125 6.390625 43.28125 13.890625 \r\nQ 47.125 21.390625 47.125 36.375 \r\nQ 47.125 51.421875 43.28125 58.90625 \r\nQ 39.453125 66.40625 31.78125 66.40625 \r\nz\r\nM 31.78125 74.21875 \r\nQ 44.046875 74.21875 50.515625 64.515625 \r\nQ 56.984375 54.828125 56.984375 36.375 \r\nQ 56.984375 17.96875 50.515625 8.265625 \r\nQ 44.046875 -1.421875 31.78125 -1.421875 \r\nQ 19.53125 -1.421875 13.0625 8.265625 \r\nQ 6.59375 17.96875 6.59375 36.375 \r\nQ 6.59375 54.828125 13.0625 64.515625 \r\nQ 19.53125 74.21875 31.78125 74.21875 \r\nz\r\n\" id=\"DejaVuSans-48\"/>\r\n       </defs>\r\n       <use xlink:href=\"#DejaVuSans-51\"/>\r\n       <use x=\"63.623047\" xlink:href=\"#DejaVuSans-48\"/>\r\n      </g>\r\n     </g>\r\n    </g>\r\n    <g id=\"xtick_2\">\r\n     <g id=\"line2d_2\">\r\n      <g>\r\n       <use style=\"stroke:#000000;stroke-width:0.8;\" x=\"88.422224\" xlink:href=\"#m99d1de6ac4\" y=\"224.64\"/>\r\n      </g>\r\n     </g>\r\n     <g id=\"text_2\">\r\n      <!-- 40 -->\r\n      <g transform=\"translate(82.059724 239.238437)scale(0.1 -0.1)\">\r\n       <defs>\r\n        <path d=\"M 37.796875 64.3125 \r\nL 12.890625 25.390625 \r\nL 37.796875 25.390625 \r\nz\r\nM 35.203125 72.90625 \r\nL 47.609375 72.90625 \r\nL 47.609375 25.390625 \r\nL 58.015625 25.390625 \r\nL 58.015625 17.1875 \r\nL 47.609375 17.1875 \r\nL 47.609375 0 \r\nL 37.796875 0 \r\nL 37.796875 17.1875 \r\nL 4.890625 17.1875 \r\nL 4.890625 26.703125 \r\nz\r\n\" id=\"DejaVuSans-52\"/>\r\n       </defs>\r\n       <use xlink:href=\"#DejaVuSans-52\"/>\r\n       <use x=\"63.623047\" xlink:href=\"#DejaVuSans-48\"/>\r\n      </g>\r\n     </g>\r\n    </g>\r\n    <g id=\"xtick_3\">\r\n     <g id=\"line2d_3\">\r\n      <g>\r\n       <use style=\"stroke:#000000;stroke-width:0.8;\" x=\"138.317902\" xlink:href=\"#m99d1de6ac4\" y=\"224.64\"/>\r\n      </g>\r\n     </g>\r\n     <g id=\"text_3\">\r\n      <!-- 50 -->\r\n      <g transform=\"translate(131.955402 239.238437)scale(0.1 -0.1)\">\r\n       <defs>\r\n        <path d=\"M 10.796875 72.90625 \r\nL 49.515625 72.90625 \r\nL 49.515625 64.59375 \r\nL 19.828125 64.59375 \r\nL 19.828125 46.734375 \r\nQ 21.96875 47.46875 24.109375 47.828125 \r\nQ 26.265625 48.1875 28.421875 48.1875 \r\nQ 40.625 48.1875 47.75 41.5 \r\nQ 54.890625 34.8125 54.890625 23.390625 \r\nQ 54.890625 11.625 47.5625 5.09375 \r\nQ 40.234375 -1.421875 26.90625 -1.421875 \r\nQ 22.3125 -1.421875 17.546875 -0.640625 \r\nQ 12.796875 0.140625 7.71875 1.703125 \r\nL 7.71875 11.625 \r\nQ 12.109375 9.234375 16.796875 8.0625 \r\nQ 21.484375 6.890625 26.703125 6.890625 \r\nQ 35.15625 6.890625 40.078125 11.328125 \r\nQ 45.015625 15.765625 45.015625 23.390625 \r\nQ 45.015625 31 40.078125 35.4375 \r\nQ 35.15625 39.890625 26.703125 39.890625 \r\nQ 22.75 39.890625 18.8125 39.015625 \r\nQ 14.890625 38.140625 10.796875 36.28125 \r\nz\r\n\" id=\"DejaVuSans-53\"/>\r\n       </defs>\r\n       <use xlink:href=\"#DejaVuSans-53\"/>\r\n       <use x=\"63.623047\" xlink:href=\"#DejaVuSans-48\"/>\r\n      </g>\r\n     </g>\r\n    </g>\r\n    <g id=\"xtick_4\">\r\n     <g id=\"line2d_4\">\r\n      <g>\r\n       <use style=\"stroke:#000000;stroke-width:0.8;\" x=\"188.21358\" xlink:href=\"#m99d1de6ac4\" y=\"224.64\"/>\r\n      </g>\r\n     </g>\r\n     <g id=\"text_4\">\r\n      <!-- 60 -->\r\n      <g transform=\"translate(181.85108 239.238437)scale(0.1 -0.1)\">\r\n       <defs>\r\n        <path d=\"M 33.015625 40.375 \r\nQ 26.375 40.375 22.484375 35.828125 \r\nQ 18.609375 31.296875 18.609375 23.390625 \r\nQ 18.609375 15.53125 22.484375 10.953125 \r\nQ 26.375 6.390625 33.015625 6.390625 \r\nQ 39.65625 6.390625 43.53125 10.953125 \r\nQ 47.40625 15.53125 47.40625 23.390625 \r\nQ 47.40625 31.296875 43.53125 35.828125 \r\nQ 39.65625 40.375 33.015625 40.375 \r\nz\r\nM 52.59375 71.296875 \r\nL 52.59375 62.3125 \r\nQ 48.875 64.0625 45.09375 64.984375 \r\nQ 41.3125 65.921875 37.59375 65.921875 \r\nQ 27.828125 65.921875 22.671875 59.328125 \r\nQ 17.53125 52.734375 16.796875 39.40625 \r\nQ 19.671875 43.65625 24.015625 45.921875 \r\nQ 28.375 48.1875 33.59375 48.1875 \r\nQ 44.578125 48.1875 50.953125 41.515625 \r\nQ 57.328125 34.859375 57.328125 23.390625 \r\nQ 57.328125 12.15625 50.6875 5.359375 \r\nQ 44.046875 -1.421875 33.015625 -1.421875 \r\nQ 20.359375 -1.421875 13.671875 8.265625 \r\nQ 6.984375 17.96875 6.984375 36.375 \r\nQ 6.984375 53.65625 15.1875 63.9375 \r\nQ 23.390625 74.21875 37.203125 74.21875 \r\nQ 40.921875 74.21875 44.703125 73.484375 \r\nQ 48.484375 72.75 52.59375 71.296875 \r\nz\r\n\" id=\"DejaVuSans-54\"/>\r\n       </defs>\r\n       <use xlink:href=\"#DejaVuSans-54\"/>\r\n       <use x=\"63.623047\" xlink:href=\"#DejaVuSans-48\"/>\r\n      </g>\r\n     </g>\r\n    </g>\r\n    <g id=\"xtick_5\">\r\n     <g id=\"line2d_5\">\r\n      <g>\r\n       <use style=\"stroke:#000000;stroke-width:0.8;\" x=\"238.109259\" xlink:href=\"#m99d1de6ac4\" y=\"224.64\"/>\r\n      </g>\r\n     </g>\r\n     <g id=\"text_5\">\r\n      <!-- 70 -->\r\n      <g transform=\"translate(231.746759 239.238437)scale(0.1 -0.1)\">\r\n       <defs>\r\n        <path d=\"M 8.203125 72.90625 \r\nL 55.078125 72.90625 \r\nL 55.078125 68.703125 \r\nL 28.609375 0 \r\nL 18.3125 0 \r\nL 43.21875 64.59375 \r\nL 8.203125 64.59375 \r\nz\r\n\" id=\"DejaVuSans-55\"/>\r\n       </defs>\r\n       <use xlink:href=\"#DejaVuSans-55\"/>\r\n       <use x=\"63.623047\" xlink:href=\"#DejaVuSans-48\"/>\r\n      </g>\r\n     </g>\r\n    </g>\r\n    <g id=\"xtick_6\">\r\n     <g id=\"line2d_6\">\r\n      <g>\r\n       <use style=\"stroke:#000000;stroke-width:0.8;\" x=\"288.004937\" xlink:href=\"#m99d1de6ac4\" y=\"224.64\"/>\r\n      </g>\r\n     </g>\r\n     <g id=\"text_6\">\r\n      <!-- 80 -->\r\n      <g transform=\"translate(281.642437 239.238437)scale(0.1 -0.1)\">\r\n       <defs>\r\n        <path d=\"M 31.78125 34.625 \r\nQ 24.75 34.625 20.71875 30.859375 \r\nQ 16.703125 27.09375 16.703125 20.515625 \r\nQ 16.703125 13.921875 20.71875 10.15625 \r\nQ 24.75 6.390625 31.78125 6.390625 \r\nQ 38.8125 6.390625 42.859375 10.171875 \r\nQ 46.921875 13.96875 46.921875 20.515625 \r\nQ 46.921875 27.09375 42.890625 30.859375 \r\nQ 38.875 34.625 31.78125 34.625 \r\nz\r\nM 21.921875 38.8125 \r\nQ 15.578125 40.375 12.03125 44.71875 \r\nQ 8.5 49.078125 8.5 55.328125 \r\nQ 8.5 64.0625 14.71875 69.140625 \r\nQ 20.953125 74.21875 31.78125 74.21875 \r\nQ 42.671875 74.21875 48.875 69.140625 \r\nQ 55.078125 64.0625 55.078125 55.328125 \r\nQ 55.078125 49.078125 51.53125 44.71875 \r\nQ 48 40.375 41.703125 38.8125 \r\nQ 48.828125 37.15625 52.796875 32.3125 \r\nQ 56.78125 27.484375 56.78125 20.515625 \r\nQ 56.78125 9.90625 50.3125 4.234375 \r\nQ 43.84375 -1.421875 31.78125 -1.421875 \r\nQ 19.734375 -1.421875 13.25 4.234375 \r\nQ 6.78125 9.90625 6.78125 20.515625 \r\nQ 6.78125 27.484375 10.78125 32.3125 \r\nQ 14.796875 37.15625 21.921875 38.8125 \r\nz\r\nM 18.3125 54.390625 \r\nQ 18.3125 48.734375 21.84375 45.5625 \r\nQ 25.390625 42.390625 31.78125 42.390625 \r\nQ 38.140625 42.390625 41.71875 45.5625 \r\nQ 45.3125 48.734375 45.3125 54.390625 \r\nQ 45.3125 60.0625 41.71875 63.234375 \r\nQ 38.140625 66.40625 31.78125 66.40625 \r\nQ 25.390625 66.40625 21.84375 63.234375 \r\nQ 18.3125 60.0625 18.3125 54.390625 \r\nz\r\n\" id=\"DejaVuSans-56\"/>\r\n       </defs>\r\n       <use xlink:href=\"#DejaVuSans-56\"/>\r\n       <use x=\"63.623047\" xlink:href=\"#DejaVuSans-48\"/>\r\n      </g>\r\n     </g>\r\n    </g>\r\n    <g id=\"xtick_7\">\r\n     <g id=\"line2d_7\">\r\n      <g>\r\n       <use style=\"stroke:#000000;stroke-width:0.8;\" x=\"337.900615\" xlink:href=\"#m99d1de6ac4\" y=\"224.64\"/>\r\n      </g>\r\n     </g>\r\n     <g id=\"text_7\">\r\n      <!-- 90 -->\r\n      <g transform=\"translate(331.538115 239.238437)scale(0.1 -0.1)\">\r\n       <defs>\r\n        <path d=\"M 10.984375 1.515625 \r\nL 10.984375 10.5 \r\nQ 14.703125 8.734375 18.5 7.8125 \r\nQ 22.3125 6.890625 25.984375 6.890625 \r\nQ 35.75 6.890625 40.890625 13.453125 \r\nQ 46.046875 20.015625 46.78125 33.40625 \r\nQ 43.953125 29.203125 39.59375 26.953125 \r\nQ 35.25 24.703125 29.984375 24.703125 \r\nQ 19.046875 24.703125 12.671875 31.3125 \r\nQ 6.296875 37.9375 6.296875 49.421875 \r\nQ 6.296875 60.640625 12.9375 67.421875 \r\nQ 19.578125 74.21875 30.609375 74.21875 \r\nQ 43.265625 74.21875 49.921875 64.515625 \r\nQ 56.59375 54.828125 56.59375 36.375 \r\nQ 56.59375 19.140625 48.40625 8.859375 \r\nQ 40.234375 -1.421875 26.421875 -1.421875 \r\nQ 22.703125 -1.421875 18.890625 -0.6875 \r\nQ 15.09375 0.046875 10.984375 1.515625 \r\nz\r\nM 30.609375 32.421875 \r\nQ 37.25 32.421875 41.125 36.953125 \r\nQ 45.015625 41.5 45.015625 49.421875 \r\nQ 45.015625 57.28125 41.125 61.84375 \r\nQ 37.25 66.40625 30.609375 66.40625 \r\nQ 23.96875 66.40625 20.09375 61.84375 \r\nQ 16.21875 57.28125 16.21875 49.421875 \r\nQ 16.21875 41.5 20.09375 36.953125 \r\nQ 23.96875 32.421875 30.609375 32.421875 \r\nz\r\n\" id=\"DejaVuSans-57\"/>\r\n       </defs>\r\n       <use xlink:href=\"#DejaVuSans-57\"/>\r\n       <use x=\"63.623047\" xlink:href=\"#DejaVuSans-48\"/>\r\n      </g>\r\n     </g>\r\n    </g>\r\n   </g>\r\n   <g id=\"matplotlib.axis_2\">\r\n    <g id=\"ytick_1\">\r\n     <g id=\"line2d_8\">\r\n      <defs>\r\n       <path d=\"M 0 0 \r\nL -3.5 0 \r\n\" id=\"mde76145ee5\" style=\"stroke:#000000;stroke-width:0.8;\"/>\r\n      </defs>\r\n      <g>\r\n       <use style=\"stroke:#000000;stroke-width:0.8;\" x=\"33.2875\" xlink:href=\"#mde76145ee5\" y=\"223.741488\"/>\r\n      </g>\r\n     </g>\r\n     <g id=\"text_8\">\r\n      <!-- 30 -->\r\n      <g transform=\"translate(13.5625 227.540706)scale(0.1 -0.1)\">\r\n       <use xlink:href=\"#DejaVuSans-51\"/>\r\n       <use x=\"63.623047\" xlink:href=\"#DejaVuSans-48\"/>\r\n      </g>\r\n     </g>\r\n    </g>\r\n    <g id=\"ytick_2\">\r\n     <g id=\"line2d_9\">\r\n      <g>\r\n       <use style=\"stroke:#000000;stroke-width:0.8;\" x=\"33.2875\" xlink:href=\"#mde76145ee5\" y=\"193.791074\"/>\r\n      </g>\r\n     </g>\r\n     <g id=\"text_9\">\r\n      <!-- 40 -->\r\n      <g transform=\"translate(13.5625 197.590293)scale(0.1 -0.1)\">\r\n       <use xlink:href=\"#DejaVuSans-52\"/>\r\n       <use x=\"63.623047\" xlink:href=\"#DejaVuSans-48\"/>\r\n      </g>\r\n     </g>\r\n    </g>\r\n    <g id=\"ytick_3\">\r\n     <g id=\"line2d_10\">\r\n      <g>\r\n       <use style=\"stroke:#000000;stroke-width:0.8;\" x=\"33.2875\" xlink:href=\"#mde76145ee5\" y=\"163.840661\"/>\r\n      </g>\r\n     </g>\r\n     <g id=\"text_10\">\r\n      <!-- 50 -->\r\n      <g transform=\"translate(13.5625 167.63988)scale(0.1 -0.1)\">\r\n       <use xlink:href=\"#DejaVuSans-53\"/>\r\n       <use x=\"63.623047\" xlink:href=\"#DejaVuSans-48\"/>\r\n      </g>\r\n     </g>\r\n    </g>\r\n    <g id=\"ytick_4\">\r\n     <g id=\"line2d_11\">\r\n      <g>\r\n       <use style=\"stroke:#000000;stroke-width:0.8;\" x=\"33.2875\" xlink:href=\"#mde76145ee5\" y=\"133.890248\"/>\r\n      </g>\r\n     </g>\r\n     <g id=\"text_11\">\r\n      <!-- 60 -->\r\n      <g transform=\"translate(13.5625 137.689467)scale(0.1 -0.1)\">\r\n       <use xlink:href=\"#DejaVuSans-54\"/>\r\n       <use x=\"63.623047\" xlink:href=\"#DejaVuSans-48\"/>\r\n      </g>\r\n     </g>\r\n    </g>\r\n    <g id=\"ytick_5\">\r\n     <g id=\"line2d_12\">\r\n      <g>\r\n       <use style=\"stroke:#000000;stroke-width:0.8;\" x=\"33.2875\" xlink:href=\"#mde76145ee5\" y=\"103.939835\"/>\r\n      </g>\r\n     </g>\r\n     <g id=\"text_12\">\r\n      <!-- 70 -->\r\n      <g transform=\"translate(13.5625 107.739053)scale(0.1 -0.1)\">\r\n       <use xlink:href=\"#DejaVuSans-55\"/>\r\n       <use x=\"63.623047\" xlink:href=\"#DejaVuSans-48\"/>\r\n      </g>\r\n     </g>\r\n    </g>\r\n    <g id=\"ytick_6\">\r\n     <g id=\"line2d_13\">\r\n      <g>\r\n       <use style=\"stroke:#000000;stroke-width:0.8;\" x=\"33.2875\" xlink:href=\"#mde76145ee5\" y=\"73.989421\"/>\r\n      </g>\r\n     </g>\r\n     <g id=\"text_13\">\r\n      <!-- 80 -->\r\n      <g transform=\"translate(13.5625 77.78864)scale(0.1 -0.1)\">\r\n       <use xlink:href=\"#DejaVuSans-56\"/>\r\n       <use x=\"63.623047\" xlink:href=\"#DejaVuSans-48\"/>\r\n      </g>\r\n     </g>\r\n    </g>\r\n    <g id=\"ytick_7\">\r\n     <g id=\"line2d_14\">\r\n      <g>\r\n       <use style=\"stroke:#000000;stroke-width:0.8;\" x=\"33.2875\" xlink:href=\"#mde76145ee5\" y=\"44.039008\"/>\r\n      </g>\r\n     </g>\r\n     <g id=\"text_14\">\r\n      <!-- 90 -->\r\n      <g transform=\"translate(13.5625 47.838227)scale(0.1 -0.1)\">\r\n       <use xlink:href=\"#DejaVuSans-57\"/>\r\n       <use x=\"63.623047\" xlink:href=\"#DejaVuSans-48\"/>\r\n      </g>\r\n     </g>\r\n    </g>\r\n    <g id=\"ytick_8\">\r\n     <g id=\"line2d_15\">\r\n      <g>\r\n       <use style=\"stroke:#000000;stroke-width:0.8;\" x=\"33.2875\" xlink:href=\"#mde76145ee5\" y=\"14.088595\"/>\r\n      </g>\r\n     </g>\r\n     <g id=\"text_15\">\r\n      <!-- 100 -->\r\n      <g transform=\"translate(7.2 17.887814)scale(0.1 -0.1)\">\r\n       <defs>\r\n        <path d=\"M 12.40625 8.296875 \r\nL 28.515625 8.296875 \r\nL 28.515625 63.921875 \r\nL 10.984375 60.40625 \r\nL 10.984375 69.390625 \r\nL 28.421875 72.90625 \r\nL 38.28125 72.90625 \r\nL 38.28125 8.296875 \r\nL 54.390625 8.296875 \r\nL 54.390625 0 \r\nL 12.40625 0 \r\nz\r\n\" id=\"DejaVuSans-49\"/>\r\n       </defs>\r\n       <use xlink:href=\"#DejaVuSans-49\"/>\r\n       <use x=\"63.623047\" xlink:href=\"#DejaVuSans-48\"/>\r\n       <use x=\"127.246094\" xlink:href=\"#DejaVuSans-48\"/>\r\n      </g>\r\n     </g>\r\n    </g>\r\n   </g>\r\n   <g id=\"patch_3\">\r\n    <path d=\"M 33.2875 224.64 \r\nL 33.2875 7.2 \r\n\" style=\"fill:none;stroke:#000000;stroke-linecap:square;stroke-linejoin:miter;stroke-width:0.8;\"/>\r\n   </g>\r\n   <g id=\"patch_4\">\r\n    <path d=\"M 368.0875 224.64 \r\nL 368.0875 7.2 \r\n\" style=\"fill:none;stroke:#000000;stroke-linecap:square;stroke-linejoin:miter;stroke-width:0.8;\"/>\r\n   </g>\r\n   <g id=\"patch_5\">\r\n    <path d=\"M 33.2875 224.64 \r\nL 368.0875 224.64 \r\n\" style=\"fill:none;stroke:#000000;stroke-linecap:square;stroke-linejoin:miter;stroke-width:0.8;\"/>\r\n   </g>\r\n   <g id=\"patch_6\">\r\n    <path d=\"M 33.2875 7.2 \r\nL 368.0875 7.2 \r\n\" style=\"fill:none;stroke:#000000;stroke-linecap:square;stroke-linejoin:miter;stroke-width:0.8;\"/>\r\n   </g>\r\n  </g>\r\n </g>\r\n <defs>\r\n  <clipPath id=\"p56b674ac16\">\r\n   <rect height=\"217.44\" width=\"334.8\" x=\"33.2875\" y=\"7.2\"/>\r\n  </clipPath>\r\n </defs>\r\n</svg>\r\n",
      "image/png": "[encoded data removed]"
     },
     "metadata": {
      "needs_background": "light"
     }
    }
   ],
   "source": [
    "plt.scatter(school_score_tied, moderated_tied, c='blue')\n",
    "plt.scatter(school_score_sep, moderated_sep, c='red')\n"
   ]
  },
  {
   "cell_type": "markdown",
   "metadata": {},
   "source": [
    "Compare the result for each student under each scenario. "
   ]
  },
  {
   "cell_type": "code",
   "execution_count": 9,
   "metadata": {
    "tags": []
   },
   "outputs": [
    {
     "output_type": "stream",
     "name": "stdout",
     "text": "Effect on moderated mark as a result of spearating the top students. Listed in reverse rank order\n[0. 0. 0. 0. 0. 0. 0. 0. 0. 0. 0. 1.]\n"
    }
   ],
   "source": [
    "compare_tied_sep = moderated_sep - moderated_tied\n",
    "print(f'Effect on moderated mark as a result of spearating the top students. Listed in reverse rank order')\n",
    "print(f'{compare_tied_sep}')"
   ]
  },
  {
   "cell_type": "markdown",
   "metadata": {},
   "source": [
    "Now lets do this `runs` times and see who the winners and losers are."
   ]
  },
  {
   "cell_type": "code",
   "execution_count": 10,
   "metadata": {},
   "outputs": [
    {
     "output_type": "execute_result",
     "data": {
      "text/plain": "Text(0.5, 1.0, 'Effect of separating tied first placegetters')"
     },
     "metadata": {},
     "execution_count": 10
    },
    {
     "output_type": "display_data",
     "data": {
      "text/plain": "<Figure size 432x288 with 1 Axes>",
      "image/svg+xml": "<?xml version=\"1.0\" encoding=\"utf-8\" standalone=\"no\"?>\r\n<!DOCTYPE svg PUBLIC \"-//W3C//DTD SVG 1.1//EN\"\r\n  \"http://www.w3.org/Graphics/SVG/1.1/DTD/svg11.dtd\">\r\n<!-- Created with matplotlib (https://matplotlib.org/) -->\r\n<svg height=\"277.314375pt\" version=\"1.1\" viewBox=\"0 0 385.78125 277.314375\" width=\"385.78125pt\" xmlns=\"http://www.w3.org/2000/svg\" xmlns:xlink=\"http://www.w3.org/1999/xlink\">\r\n <metadata>\r\n  <rdf:RDF xmlns:cc=\"http://creativecommons.org/ns#\" xmlns:dc=\"http://purl.org/dc/elements/1.1/\" xmlns:rdf=\"http://www.w3.org/1999/02/22-rdf-syntax-ns#\">\r\n   <cc:Work>\r\n    <dc:type rdf:resource=\"http://purl.org/dc/dcmitype/StillImage\"/>\r\n    <dc:date>2020-09-08T15:43:16.850850</dc:date>\r\n    <dc:format>image/svg+xml</dc:format>\r\n    <dc:creator>\r\n     <cc:Agent>\r\n      <dc:title>Matplotlib v3.3.1, https://matplotlib.org/</dc:title>\r\n     </cc:Agent>\r\n    </dc:creator>\r\n   </cc:Work>\r\n  </rdf:RDF>\r\n </metadata>\r\n <defs>\r\n  <style type=\"text/css\">*{stroke-linecap:butt;stroke-linejoin:round;}</style>\r\n </defs>\r\n <g id=\"figure_1\">\r\n  <g id=\"patch_1\">\r\n   <path d=\"M 0 277.314375 \r\nL 385.78125 277.314375 \r\nL 385.78125 0 \r\nL 0 0 \r\nz\r\n\" style=\"fill:none;\"/>\r\n  </g>\r\n  <g id=\"axes_1\">\r\n   <g id=\"patch_2\">\r\n    <path d=\"M 43.78125 239.758125 \r\nL 378.58125 239.758125 \r\nL 378.58125 22.318125 \r\nL 43.78125 22.318125 \r\nz\r\n\" style=\"fill:#ffffff;\"/>\r\n   </g>\r\n   <g id=\"patch_3\">\r\n    <path clip-path=\"url(#p88da086914)\" d=\"M 58.999432 210.768238 \r\nL 79.634255 210.768238 \r\nL 79.634255 32.201761 \r\nL 58.999432 32.201761 \r\nz\r\n\" style=\"fill:#1f77b4;\"/>\r\n   </g>\r\n   <g id=\"patch_4\">\r\n    <path clip-path=\"url(#p88da086914)\" d=\"M 84.79296 210.768238 \r\nL 105.427783 210.768238 \r\nL 105.427783 134.343235 \r\nL 84.79296 134.343235 \r\nz\r\n\" style=\"fill:#1f77b4;\"/>\r\n   </g>\r\n   <g id=\"patch_5\">\r\n    <path clip-path=\"url(#p88da086914)\" d=\"M 110.586489 210.768238 \r\nL 131.221312 210.768238 \r\nL 131.221312 175.815571 \r\nL 110.586489 175.815571 \r\nz\r\n\" style=\"fill:#1f77b4;\"/>\r\n   </g>\r\n   <g id=\"patch_6\">\r\n    <path clip-path=\"url(#p88da086914)\" d=\"M 136.380017 210.768238 \r\nL 157.01484 210.768238 \r\nL 157.01484 195.012372 \r\nL 136.380017 195.012372 \r\nz\r\n\" style=\"fill:#1f77b4;\"/>\r\n   </g>\r\n   <g id=\"patch_7\">\r\n    <path clip-path=\"url(#p88da086914)\" d=\"M 162.173546 210.768238 \r\nL 182.808369 210.768238 \r\nL 182.808369 207.689506 \r\nL 162.173546 207.689506 \r\nz\r\n\" style=\"fill:#1f77b4;\"/>\r\n   </g>\r\n   <g id=\"patch_8\">\r\n    <path clip-path=\"url(#p88da086914)\" d=\"M 187.967074 210.768238 \r\nL 208.601897 210.768238 \r\nL 208.601897 214.571378 \r\nL 187.967074 214.571378 \r\nz\r\n\" style=\"fill:#1f77b4;\"/>\r\n   </g>\r\n   <g id=\"patch_9\">\r\n    <path clip-path=\"url(#p88da086914)\" d=\"M 213.760603 210.768238 \r\nL 234.395426 210.768238 \r\nL 234.395426 221.996556 \r\nL 213.760603 221.996556 \r\nz\r\n\" style=\"fill:#1f77b4;\"/>\r\n   </g>\r\n   <g id=\"patch_10\">\r\n    <path clip-path=\"url(#p88da086914)\" d=\"M 239.554131 210.768238 \r\nL 260.188954 210.768238 \r\nL 260.188954 225.799696 \r\nL 239.554131 225.799696 \r\nz\r\n\" style=\"fill:#1f77b4;\"/>\r\n   </g>\r\n   <g id=\"patch_11\">\r\n    <path clip-path=\"url(#p88da086914)\" d=\"M 265.34766 210.768238 \r\nL 285.982483 210.768238 \r\nL 285.982483 228.335122 \r\nL 265.34766 228.335122 \r\nz\r\n\" style=\"fill:#1f77b4;\"/>\r\n   </g>\r\n   <g id=\"patch_12\">\r\n    <path clip-path=\"url(#p88da086914)\" d=\"M 291.141188 210.768238 \r\nL 311.776011 210.768238 \r\nL 311.776011 229.874489 \r\nL 291.141188 229.874489 \r\nz\r\n\" style=\"fill:#1f77b4;\"/>\r\n   </g>\r\n   <g id=\"patch_13\">\r\n    <path clip-path=\"url(#p88da086914)\" d=\"M 316.934717 210.768238 \r\nL 337.56954 210.768238 \r\nL 337.56954 226.614654 \r\nL 316.934717 226.614654 \r\nz\r\n\" style=\"fill:#1f77b4;\"/>\r\n   </g>\r\n   <g id=\"patch_14\">\r\n    <path clip-path=\"url(#p88da086914)\" d=\"M 342.728245 210.768238 \r\nL 363.363068 210.768238 \r\nL 363.363068 210.768238 \r\nL 342.728245 210.768238 \r\nz\r\n\" style=\"fill:#1f77b4;\"/>\r\n   </g>\r\n   <g id=\"matplotlib.axis_1\">\r\n    <g id=\"xtick_1\">\r\n     <g id=\"line2d_1\">\r\n      <defs>\r\n       <path d=\"M 0 0 \r\nL 0 3.5 \r\n\" id=\"m1f94b2d885\" style=\"stroke:#000000;stroke-width:0.8;\"/>\r\n      </defs>\r\n      <g>\r\n       <use style=\"stroke:#000000;stroke-width:0.8;\" x=\"95.110372\" xlink:href=\"#m1f94b2d885\" y=\"239.758125\"/>\r\n      </g>\r\n     </g>\r\n     <g id=\"text_1\">\r\n      <!-- 2 -->\r\n      <g transform=\"translate(91.929122 254.356562)scale(0.1 -0.1)\">\r\n       <defs>\r\n        <path d=\"M 19.1875 8.296875 \r\nL 53.609375 8.296875 \r\nL 53.609375 0 \r\nL 7.328125 0 \r\nL 7.328125 8.296875 \r\nQ 12.9375 14.109375 22.625 23.890625 \r\nQ 32.328125 33.6875 34.8125 36.53125 \r\nQ 39.546875 41.84375 41.421875 45.53125 \r\nQ 43.3125 49.21875 43.3125 52.78125 \r\nQ 43.3125 58.59375 39.234375 62.25 \r\nQ 35.15625 65.921875 28.609375 65.921875 \r\nQ 23.96875 65.921875 18.8125 64.3125 \r\nQ 13.671875 62.703125 7.8125 59.421875 \r\nL 7.8125 69.390625 \r\nQ 13.765625 71.78125 18.9375 73 \r\nQ 24.125 74.21875 28.421875 74.21875 \r\nQ 39.75 74.21875 46.484375 68.546875 \r\nQ 53.21875 62.890625 53.21875 53.421875 \r\nQ 53.21875 48.921875 51.53125 44.890625 \r\nQ 49.859375 40.875 45.40625 35.40625 \r\nQ 44.1875 33.984375 37.640625 27.21875 \r\nQ 31.109375 20.453125 19.1875 8.296875 \r\nz\r\n\" id=\"DejaVuSans-50\"/>\r\n       </defs>\r\n       <use xlink:href=\"#DejaVuSans-50\"/>\r\n      </g>\r\n     </g>\r\n    </g>\r\n    <g id=\"xtick_2\">\r\n     <g id=\"line2d_2\">\r\n      <g>\r\n       <use style=\"stroke:#000000;stroke-width:0.8;\" x=\"146.697429\" xlink:href=\"#m1f94b2d885\" y=\"239.758125\"/>\r\n      </g>\r\n     </g>\r\n     <g id=\"text_2\">\r\n      <!-- 4 -->\r\n      <g transform=\"translate(143.516179 254.356562)scale(0.1 -0.1)\">\r\n       <defs>\r\n        <path d=\"M 37.796875 64.3125 \r\nL 12.890625 25.390625 \r\nL 37.796875 25.390625 \r\nz\r\nM 35.203125 72.90625 \r\nL 47.609375 72.90625 \r\nL 47.609375 25.390625 \r\nL 58.015625 25.390625 \r\nL 58.015625 17.1875 \r\nL 47.609375 17.1875 \r\nL 47.609375 0 \r\nL 37.796875 0 \r\nL 37.796875 17.1875 \r\nL 4.890625 17.1875 \r\nL 4.890625 26.703125 \r\nz\r\n\" id=\"DejaVuSans-52\"/>\r\n       </defs>\r\n       <use xlink:href=\"#DejaVuSans-52\"/>\r\n      </g>\r\n     </g>\r\n    </g>\r\n    <g id=\"xtick_3\">\r\n     <g id=\"line2d_3\">\r\n      <g>\r\n       <use style=\"stroke:#000000;stroke-width:0.8;\" x=\"198.284486\" xlink:href=\"#m1f94b2d885\" y=\"239.758125\"/>\r\n      </g>\r\n     </g>\r\n     <g id=\"text_3\">\r\n      <!-- 6 -->\r\n      <g transform=\"translate(195.103236 254.356562)scale(0.1 -0.1)\">\r\n       <defs>\r\n        <path d=\"M 33.015625 40.375 \r\nQ 26.375 40.375 22.484375 35.828125 \r\nQ 18.609375 31.296875 18.609375 23.390625 \r\nQ 18.609375 15.53125 22.484375 10.953125 \r\nQ 26.375 6.390625 33.015625 6.390625 \r\nQ 39.65625 6.390625 43.53125 10.953125 \r\nQ 47.40625 15.53125 47.40625 23.390625 \r\nQ 47.40625 31.296875 43.53125 35.828125 \r\nQ 39.65625 40.375 33.015625 40.375 \r\nz\r\nM 52.59375 71.296875 \r\nL 52.59375 62.3125 \r\nQ 48.875 64.0625 45.09375 64.984375 \r\nQ 41.3125 65.921875 37.59375 65.921875 \r\nQ 27.828125 65.921875 22.671875 59.328125 \r\nQ 17.53125 52.734375 16.796875 39.40625 \r\nQ 19.671875 43.65625 24.015625 45.921875 \r\nQ 28.375 48.1875 33.59375 48.1875 \r\nQ 44.578125 48.1875 50.953125 41.515625 \r\nQ 57.328125 34.859375 57.328125 23.390625 \r\nQ 57.328125 12.15625 50.6875 5.359375 \r\nQ 44.046875 -1.421875 33.015625 -1.421875 \r\nQ 20.359375 -1.421875 13.671875 8.265625 \r\nQ 6.984375 17.96875 6.984375 36.375 \r\nQ 6.984375 53.65625 15.1875 63.9375 \r\nQ 23.390625 74.21875 37.203125 74.21875 \r\nQ 40.921875 74.21875 44.703125 73.484375 \r\nQ 48.484375 72.75 52.59375 71.296875 \r\nz\r\n\" id=\"DejaVuSans-54\"/>\r\n       </defs>\r\n       <use xlink:href=\"#DejaVuSans-54\"/>\r\n      </g>\r\n     </g>\r\n    </g>\r\n    <g id=\"xtick_4\">\r\n     <g id=\"line2d_4\">\r\n      <g>\r\n       <use style=\"stroke:#000000;stroke-width:0.8;\" x=\"249.871543\" xlink:href=\"#m1f94b2d885\" y=\"239.758125\"/>\r\n      </g>\r\n     </g>\r\n     <g id=\"text_4\">\r\n      <!-- 8 -->\r\n      <g transform=\"translate(246.690293 254.356562)scale(0.1 -0.1)\">\r\n       <defs>\r\n        <path d=\"M 31.78125 34.625 \r\nQ 24.75 34.625 20.71875 30.859375 \r\nQ 16.703125 27.09375 16.703125 20.515625 \r\nQ 16.703125 13.921875 20.71875 10.15625 \r\nQ 24.75 6.390625 31.78125 6.390625 \r\nQ 38.8125 6.390625 42.859375 10.171875 \r\nQ 46.921875 13.96875 46.921875 20.515625 \r\nQ 46.921875 27.09375 42.890625 30.859375 \r\nQ 38.875 34.625 31.78125 34.625 \r\nz\r\nM 21.921875 38.8125 \r\nQ 15.578125 40.375 12.03125 44.71875 \r\nQ 8.5 49.078125 8.5 55.328125 \r\nQ 8.5 64.0625 14.71875 69.140625 \r\nQ 20.953125 74.21875 31.78125 74.21875 \r\nQ 42.671875 74.21875 48.875 69.140625 \r\nQ 55.078125 64.0625 55.078125 55.328125 \r\nQ 55.078125 49.078125 51.53125 44.71875 \r\nQ 48 40.375 41.703125 38.8125 \r\nQ 48.828125 37.15625 52.796875 32.3125 \r\nQ 56.78125 27.484375 56.78125 20.515625 \r\nQ 56.78125 9.90625 50.3125 4.234375 \r\nQ 43.84375 -1.421875 31.78125 -1.421875 \r\nQ 19.734375 -1.421875 13.25 4.234375 \r\nQ 6.78125 9.90625 6.78125 20.515625 \r\nQ 6.78125 27.484375 10.78125 32.3125 \r\nQ 14.796875 37.15625 21.921875 38.8125 \r\nz\r\nM 18.3125 54.390625 \r\nQ 18.3125 48.734375 21.84375 45.5625 \r\nQ 25.390625 42.390625 31.78125 42.390625 \r\nQ 38.140625 42.390625 41.71875 45.5625 \r\nQ 45.3125 48.734375 45.3125 54.390625 \r\nQ 45.3125 60.0625 41.71875 63.234375 \r\nQ 38.140625 66.40625 31.78125 66.40625 \r\nQ 25.390625 66.40625 21.84375 63.234375 \r\nQ 18.3125 60.0625 18.3125 54.390625 \r\nz\r\n\" id=\"DejaVuSans-56\"/>\r\n       </defs>\r\n       <use xlink:href=\"#DejaVuSans-56\"/>\r\n      </g>\r\n     </g>\r\n    </g>\r\n    <g id=\"xtick_5\">\r\n     <g id=\"line2d_5\">\r\n      <g>\r\n       <use style=\"stroke:#000000;stroke-width:0.8;\" x=\"301.4586\" xlink:href=\"#m1f94b2d885\" y=\"239.758125\"/>\r\n      </g>\r\n     </g>\r\n     <g id=\"text_5\">\r\n      <!-- 10 -->\r\n      <g transform=\"translate(295.0961 254.356562)scale(0.1 -0.1)\">\r\n       <defs>\r\n        <path d=\"M 12.40625 8.296875 \r\nL 28.515625 8.296875 \r\nL 28.515625 63.921875 \r\nL 10.984375 60.40625 \r\nL 10.984375 69.390625 \r\nL 28.421875 72.90625 \r\nL 38.28125 72.90625 \r\nL 38.28125 8.296875 \r\nL 54.390625 8.296875 \r\nL 54.390625 0 \r\nL 12.40625 0 \r\nz\r\n\" id=\"DejaVuSans-49\"/>\r\n        <path d=\"M 31.78125 66.40625 \r\nQ 24.171875 66.40625 20.328125 58.90625 \r\nQ 16.5 51.421875 16.5 36.375 \r\nQ 16.5 21.390625 20.328125 13.890625 \r\nQ 24.171875 6.390625 31.78125 6.390625 \r\nQ 39.453125 6.390625 43.28125 13.890625 \r\nQ 47.125 21.390625 47.125 36.375 \r\nQ 47.125 51.421875 43.28125 58.90625 \r\nQ 39.453125 66.40625 31.78125 66.40625 \r\nz\r\nM 31.78125 74.21875 \r\nQ 44.046875 74.21875 50.515625 64.515625 \r\nQ 56.984375 54.828125 56.984375 36.375 \r\nQ 56.984375 17.96875 50.515625 8.265625 \r\nQ 44.046875 -1.421875 31.78125 -1.421875 \r\nQ 19.53125 -1.421875 13.0625 8.265625 \r\nQ 6.59375 17.96875 6.59375 36.375 \r\nQ 6.59375 54.828125 13.0625 64.515625 \r\nQ 19.53125 74.21875 31.78125 74.21875 \r\nz\r\n\" id=\"DejaVuSans-48\"/>\r\n       </defs>\r\n       <use xlink:href=\"#DejaVuSans-49\"/>\r\n       <use x=\"63.623047\" xlink:href=\"#DejaVuSans-48\"/>\r\n      </g>\r\n     </g>\r\n    </g>\r\n    <g id=\"xtick_6\">\r\n     <g id=\"line2d_6\">\r\n      <g>\r\n       <use style=\"stroke:#000000;stroke-width:0.8;\" x=\"353.045657\" xlink:href=\"#m1f94b2d885\" y=\"239.758125\"/>\r\n      </g>\r\n     </g>\r\n     <g id=\"text_6\">\r\n      <!-- 12 -->\r\n      <g transform=\"translate(346.683157 254.356562)scale(0.1 -0.1)\">\r\n       <use xlink:href=\"#DejaVuSans-49\"/>\r\n       <use x=\"63.623047\" xlink:href=\"#DejaVuSans-50\"/>\r\n      </g>\r\n     </g>\r\n    </g>\r\n    <g id=\"text_7\">\r\n     <!-- school rank -->\r\n     <g transform=\"translate(182.378125 268.034687)scale(0.1 -0.1)\">\r\n      <defs>\r\n       <path d=\"M 44.28125 53.078125 \r\nL 44.28125 44.578125 \r\nQ 40.484375 46.53125 36.375 47.5 \r\nQ 32.28125 48.484375 27.875 48.484375 \r\nQ 21.1875 48.484375 17.84375 46.4375 \r\nQ 14.5 44.390625 14.5 40.28125 \r\nQ 14.5 37.15625 16.890625 35.375 \r\nQ 19.28125 33.59375 26.515625 31.984375 \r\nL 29.59375 31.296875 \r\nQ 39.15625 29.25 43.1875 25.515625 \r\nQ 47.21875 21.78125 47.21875 15.09375 \r\nQ 47.21875 7.46875 41.1875 3.015625 \r\nQ 35.15625 -1.421875 24.609375 -1.421875 \r\nQ 20.21875 -1.421875 15.453125 -0.5625 \r\nQ 10.6875 0.296875 5.421875 2 \r\nL 5.421875 11.28125 \r\nQ 10.40625 8.6875 15.234375 7.390625 \r\nQ 20.0625 6.109375 24.8125 6.109375 \r\nQ 31.15625 6.109375 34.5625 8.28125 \r\nQ 37.984375 10.453125 37.984375 14.40625 \r\nQ 37.984375 18.0625 35.515625 20.015625 \r\nQ 33.0625 21.96875 24.703125 23.78125 \r\nL 21.578125 24.515625 \r\nQ 13.234375 26.265625 9.515625 29.90625 \r\nQ 5.8125 33.546875 5.8125 39.890625 \r\nQ 5.8125 47.609375 11.28125 51.796875 \r\nQ 16.75 56 26.8125 56 \r\nQ 31.78125 56 36.171875 55.265625 \r\nQ 40.578125 54.546875 44.28125 53.078125 \r\nz\r\n\" id=\"DejaVuSans-115\"/>\r\n       <path d=\"M 48.78125 52.59375 \r\nL 48.78125 44.1875 \r\nQ 44.96875 46.296875 41.140625 47.34375 \r\nQ 37.3125 48.390625 33.40625 48.390625 \r\nQ 24.65625 48.390625 19.8125 42.84375 \r\nQ 14.984375 37.3125 14.984375 27.296875 \r\nQ 14.984375 17.28125 19.8125 11.734375 \r\nQ 24.65625 6.203125 33.40625 6.203125 \r\nQ 37.3125 6.203125 41.140625 7.25 \r\nQ 44.96875 8.296875 48.78125 10.40625 \r\nL 48.78125 2.09375 \r\nQ 45.015625 0.34375 40.984375 -0.53125 \r\nQ 36.96875 -1.421875 32.421875 -1.421875 \r\nQ 20.0625 -1.421875 12.78125 6.34375 \r\nQ 5.515625 14.109375 5.515625 27.296875 \r\nQ 5.515625 40.671875 12.859375 48.328125 \r\nQ 20.21875 56 33.015625 56 \r\nQ 37.15625 56 41.109375 55.140625 \r\nQ 45.0625 54.296875 48.78125 52.59375 \r\nz\r\n\" id=\"DejaVuSans-99\"/>\r\n       <path d=\"M 54.890625 33.015625 \r\nL 54.890625 0 \r\nL 45.90625 0 \r\nL 45.90625 32.71875 \r\nQ 45.90625 40.484375 42.875 44.328125 \r\nQ 39.84375 48.1875 33.796875 48.1875 \r\nQ 26.515625 48.1875 22.3125 43.546875 \r\nQ 18.109375 38.921875 18.109375 30.90625 \r\nL 18.109375 0 \r\nL 9.078125 0 \r\nL 9.078125 75.984375 \r\nL 18.109375 75.984375 \r\nL 18.109375 46.1875 \r\nQ 21.34375 51.125 25.703125 53.5625 \r\nQ 30.078125 56 35.796875 56 \r\nQ 45.21875 56 50.046875 50.171875 \r\nQ 54.890625 44.34375 54.890625 33.015625 \r\nz\r\n\" id=\"DejaVuSans-104\"/>\r\n       <path d=\"M 30.609375 48.390625 \r\nQ 23.390625 48.390625 19.1875 42.75 \r\nQ 14.984375 37.109375 14.984375 27.296875 \r\nQ 14.984375 17.484375 19.15625 11.84375 \r\nQ 23.34375 6.203125 30.609375 6.203125 \r\nQ 37.796875 6.203125 41.984375 11.859375 \r\nQ 46.1875 17.53125 46.1875 27.296875 \r\nQ 46.1875 37.015625 41.984375 42.703125 \r\nQ 37.796875 48.390625 30.609375 48.390625 \r\nz\r\nM 30.609375 56 \r\nQ 42.328125 56 49.015625 48.375 \r\nQ 55.71875 40.765625 55.71875 27.296875 \r\nQ 55.71875 13.875 49.015625 6.21875 \r\nQ 42.328125 -1.421875 30.609375 -1.421875 \r\nQ 18.84375 -1.421875 12.171875 6.21875 \r\nQ 5.515625 13.875 5.515625 27.296875 \r\nQ 5.515625 40.765625 12.171875 48.375 \r\nQ 18.84375 56 30.609375 56 \r\nz\r\n\" id=\"DejaVuSans-111\"/>\r\n       <path d=\"M 9.421875 75.984375 \r\nL 18.40625 75.984375 \r\nL 18.40625 0 \r\nL 9.421875 0 \r\nz\r\n\" id=\"DejaVuSans-108\"/>\r\n       <path id=\"DejaVuSans-32\"/>\r\n       <path d=\"M 41.109375 46.296875 \r\nQ 39.59375 47.171875 37.8125 47.578125 \r\nQ 36.03125 48 33.890625 48 \r\nQ 26.265625 48 22.1875 43.046875 \r\nQ 18.109375 38.09375 18.109375 28.8125 \r\nL 18.109375 0 \r\nL 9.078125 0 \r\nL 9.078125 54.6875 \r\nL 18.109375 54.6875 \r\nL 18.109375 46.1875 \r\nQ 20.953125 51.171875 25.484375 53.578125 \r\nQ 30.03125 56 36.53125 56 \r\nQ 37.453125 56 38.578125 55.875 \r\nQ 39.703125 55.765625 41.0625 55.515625 \r\nz\r\n\" id=\"DejaVuSans-114\"/>\r\n       <path d=\"M 34.28125 27.484375 \r\nQ 23.390625 27.484375 19.1875 25 \r\nQ 14.984375 22.515625 14.984375 16.5 \r\nQ 14.984375 11.71875 18.140625 8.90625 \r\nQ 21.296875 6.109375 26.703125 6.109375 \r\nQ 34.1875 6.109375 38.703125 11.40625 \r\nQ 43.21875 16.703125 43.21875 25.484375 \r\nL 43.21875 27.484375 \r\nz\r\nM 52.203125 31.203125 \r\nL 52.203125 0 \r\nL 43.21875 0 \r\nL 43.21875 8.296875 \r\nQ 40.140625 3.328125 35.546875 0.953125 \r\nQ 30.953125 -1.421875 24.3125 -1.421875 \r\nQ 15.921875 -1.421875 10.953125 3.296875 \r\nQ 6 8.015625 6 15.921875 \r\nQ 6 25.140625 12.171875 29.828125 \r\nQ 18.359375 34.515625 30.609375 34.515625 \r\nL 43.21875 34.515625 \r\nL 43.21875 35.40625 \r\nQ 43.21875 41.609375 39.140625 45 \r\nQ 35.0625 48.390625 27.6875 48.390625 \r\nQ 23 48.390625 18.546875 47.265625 \r\nQ 14.109375 46.140625 10.015625 43.890625 \r\nL 10.015625 52.203125 \r\nQ 14.9375 54.109375 19.578125 55.046875 \r\nQ 24.21875 56 28.609375 56 \r\nQ 40.484375 56 46.34375 49.84375 \r\nQ 52.203125 43.703125 52.203125 31.203125 \r\nz\r\n\" id=\"DejaVuSans-97\"/>\r\n       <path d=\"M 54.890625 33.015625 \r\nL 54.890625 0 \r\nL 45.90625 0 \r\nL 45.90625 32.71875 \r\nQ 45.90625 40.484375 42.875 44.328125 \r\nQ 39.84375 48.1875 33.796875 48.1875 \r\nQ 26.515625 48.1875 22.3125 43.546875 \r\nQ 18.109375 38.921875 18.109375 30.90625 \r\nL 18.109375 0 \r\nL 9.078125 0 \r\nL 9.078125 54.6875 \r\nL 18.109375 54.6875 \r\nL 18.109375 46.1875 \r\nQ 21.34375 51.125 25.703125 53.5625 \r\nQ 30.078125 56 35.796875 56 \r\nQ 45.21875 56 50.046875 50.171875 \r\nQ 54.890625 44.34375 54.890625 33.015625 \r\nz\r\n\" id=\"DejaVuSans-110\"/>\r\n       <path d=\"M 9.078125 75.984375 \r\nL 18.109375 75.984375 \r\nL 18.109375 31.109375 \r\nL 44.921875 54.6875 \r\nL 56.390625 54.6875 \r\nL 27.390625 29.109375 \r\nL 57.625 0 \r\nL 45.90625 0 \r\nL 18.109375 26.703125 \r\nL 18.109375 0 \r\nL 9.078125 0 \r\nz\r\n\" id=\"DejaVuSans-107\"/>\r\n      </defs>\r\n      <use xlink:href=\"#DejaVuSans-115\"/>\r\n      <use x=\"52.099609\" xlink:href=\"#DejaVuSans-99\"/>\r\n      <use x=\"107.080078\" xlink:href=\"#DejaVuSans-104\"/>\r\n      <use x=\"170.458984\" xlink:href=\"#DejaVuSans-111\"/>\r\n      <use x=\"231.640625\" xlink:href=\"#DejaVuSans-111\"/>\r\n      <use x=\"292.822266\" xlink:href=\"#DejaVuSans-108\"/>\r\n      <use x=\"320.605469\" xlink:href=\"#DejaVuSans-32\"/>\r\n      <use x=\"352.392578\" xlink:href=\"#DejaVuSans-114\"/>\r\n      <use x=\"393.505859\" xlink:href=\"#DejaVuSans-97\"/>\r\n      <use x=\"454.785156\" xlink:href=\"#DejaVuSans-110\"/>\r\n      <use x=\"518.164062\" xlink:href=\"#DejaVuSans-107\"/>\r\n     </g>\r\n    </g>\r\n   </g>\r\n   <g id=\"matplotlib.axis_2\">\r\n    <g id=\"ytick_1\">\r\n     <g id=\"line2d_7\">\r\n      <defs>\r\n       <path d=\"M 0 0 \r\nL -3.5 0 \r\n\" id=\"m83e2e0a8de\" style=\"stroke:#000000;stroke-width:0.8;\"/>\r\n      </defs>\r\n      <g>\r\n       <use style=\"stroke:#000000;stroke-width:0.8;\" x=\"43.78125\" xlink:href=\"#m83e2e0a8de\" y=\"210.768238\"/>\r\n      </g>\r\n     </g>\r\n     <g id=\"text_8\">\r\n      <!-- 0.0 -->\r\n      <g transform=\"translate(20.878125 214.567457)scale(0.1 -0.1)\">\r\n       <defs>\r\n        <path d=\"M 10.6875 12.40625 \r\nL 21 12.40625 \r\nL 21 0 \r\nL 10.6875 0 \r\nz\r\n\" id=\"DejaVuSans-46\"/>\r\n       </defs>\r\n       <use xlink:href=\"#DejaVuSans-48\"/>\r\n       <use x=\"63.623047\" xlink:href=\"#DejaVuSans-46\"/>\r\n       <use x=\"95.410156\" xlink:href=\"#DejaVuSans-48\"/>\r\n      </g>\r\n     </g>\r\n    </g>\r\n    <g id=\"ytick_2\">\r\n     <g id=\"line2d_8\">\r\n      <g>\r\n       <use style=\"stroke:#000000;stroke-width:0.8;\" x=\"43.78125\" xlink:href=\"#m83e2e0a8de\" y=\"165.492762\"/>\r\n      </g>\r\n     </g>\r\n     <g id=\"text_9\">\r\n      <!-- 0.5 -->\r\n      <g transform=\"translate(20.878125 169.291981)scale(0.1 -0.1)\">\r\n       <defs>\r\n        <path d=\"M 10.796875 72.90625 \r\nL 49.515625 72.90625 \r\nL 49.515625 64.59375 \r\nL 19.828125 64.59375 \r\nL 19.828125 46.734375 \r\nQ 21.96875 47.46875 24.109375 47.828125 \r\nQ 26.265625 48.1875 28.421875 48.1875 \r\nQ 40.625 48.1875 47.75 41.5 \r\nQ 54.890625 34.8125 54.890625 23.390625 \r\nQ 54.890625 11.625 47.5625 5.09375 \r\nQ 40.234375 -1.421875 26.90625 -1.421875 \r\nQ 22.3125 -1.421875 17.546875 -0.640625 \r\nQ 12.796875 0.140625 7.71875 1.703125 \r\nL 7.71875 11.625 \r\nQ 12.109375 9.234375 16.796875 8.0625 \r\nQ 21.484375 6.890625 26.703125 6.890625 \r\nQ 35.15625 6.890625 40.078125 11.328125 \r\nQ 45.015625 15.765625 45.015625 23.390625 \r\nQ 45.015625 31 40.078125 35.4375 \r\nQ 35.15625 39.890625 26.703125 39.890625 \r\nQ 22.75 39.890625 18.8125 39.015625 \r\nQ 14.890625 38.140625 10.796875 36.28125 \r\nz\r\n\" id=\"DejaVuSans-53\"/>\r\n       </defs>\r\n       <use xlink:href=\"#DejaVuSans-48\"/>\r\n       <use x=\"63.623047\" xlink:href=\"#DejaVuSans-46\"/>\r\n       <use x=\"95.410156\" xlink:href=\"#DejaVuSans-53\"/>\r\n      </g>\r\n     </g>\r\n    </g>\r\n    <g id=\"ytick_3\">\r\n     <g id=\"line2d_9\">\r\n      <g>\r\n       <use style=\"stroke:#000000;stroke-width:0.8;\" x=\"43.78125\" xlink:href=\"#m83e2e0a8de\" y=\"120.217286\"/>\r\n      </g>\r\n     </g>\r\n     <g id=\"text_10\">\r\n      <!-- 1.0 -->\r\n      <g transform=\"translate(20.878125 124.016505)scale(0.1 -0.1)\">\r\n       <use xlink:href=\"#DejaVuSans-49\"/>\r\n       <use x=\"63.623047\" xlink:href=\"#DejaVuSans-46\"/>\r\n       <use x=\"95.410156\" xlink:href=\"#DejaVuSans-48\"/>\r\n      </g>\r\n     </g>\r\n    </g>\r\n    <g id=\"ytick_4\">\r\n     <g id=\"line2d_10\">\r\n      <g>\r\n       <use style=\"stroke:#000000;stroke-width:0.8;\" x=\"43.78125\" xlink:href=\"#m83e2e0a8de\" y=\"74.941811\"/>\r\n      </g>\r\n     </g>\r\n     <g id=\"text_11\">\r\n      <!-- 1.5 -->\r\n      <g transform=\"translate(20.878125 78.741029)scale(0.1 -0.1)\">\r\n       <use xlink:href=\"#DejaVuSans-49\"/>\r\n       <use x=\"63.623047\" xlink:href=\"#DejaVuSans-46\"/>\r\n       <use x=\"95.410156\" xlink:href=\"#DejaVuSans-53\"/>\r\n      </g>\r\n     </g>\r\n    </g>\r\n    <g id=\"ytick_5\">\r\n     <g id=\"line2d_11\">\r\n      <g>\r\n       <use style=\"stroke:#000000;stroke-width:0.8;\" x=\"43.78125\" xlink:href=\"#m83e2e0a8de\" y=\"29.666335\"/>\r\n      </g>\r\n     </g>\r\n     <g id=\"text_12\">\r\n      <!-- 2.0 -->\r\n      <g transform=\"translate(20.878125 33.465553)scale(0.1 -0.1)\">\r\n       <use xlink:href=\"#DejaVuSans-50\"/>\r\n       <use x=\"63.623047\" xlink:href=\"#DejaVuSans-46\"/>\r\n       <use x=\"95.410156\" xlink:href=\"#DejaVuSans-48\"/>\r\n      </g>\r\n     </g>\r\n    </g>\r\n    <g id=\"text_13\">\r\n     <!-- mean benefit over 1000 runs -->\r\n     <g transform=\"translate(14.798438 204.052969)rotate(-90)scale(0.1 -0.1)\">\r\n      <defs>\r\n       <path d=\"M 52 44.1875 \r\nQ 55.375 50.25 60.0625 53.125 \r\nQ 64.75 56 71.09375 56 \r\nQ 79.640625 56 84.28125 50.015625 \r\nQ 88.921875 44.046875 88.921875 33.015625 \r\nL 88.921875 0 \r\nL 79.890625 0 \r\nL 79.890625 32.71875 \r\nQ 79.890625 40.578125 77.09375 44.375 \r\nQ 74.3125 48.1875 68.609375 48.1875 \r\nQ 61.625 48.1875 57.5625 43.546875 \r\nQ 53.515625 38.921875 53.515625 30.90625 \r\nL 53.515625 0 \r\nL 44.484375 0 \r\nL 44.484375 32.71875 \r\nQ 44.484375 40.625 41.703125 44.40625 \r\nQ 38.921875 48.1875 33.109375 48.1875 \r\nQ 26.21875 48.1875 22.15625 43.53125 \r\nQ 18.109375 38.875 18.109375 30.90625 \r\nL 18.109375 0 \r\nL 9.078125 0 \r\nL 9.078125 54.6875 \r\nL 18.109375 54.6875 \r\nL 18.109375 46.1875 \r\nQ 21.1875 51.21875 25.484375 53.609375 \r\nQ 29.78125 56 35.6875 56 \r\nQ 41.65625 56 45.828125 52.96875 \r\nQ 50 49.953125 52 44.1875 \r\nz\r\n\" id=\"DejaVuSans-109\"/>\r\n       <path d=\"M 56.203125 29.59375 \r\nL 56.203125 25.203125 \r\nL 14.890625 25.203125 \r\nQ 15.484375 15.921875 20.484375 11.0625 \r\nQ 25.484375 6.203125 34.421875 6.203125 \r\nQ 39.59375 6.203125 44.453125 7.46875 \r\nQ 49.3125 8.734375 54.109375 11.28125 \r\nL 54.109375 2.78125 \r\nQ 49.265625 0.734375 44.1875 -0.34375 \r\nQ 39.109375 -1.421875 33.890625 -1.421875 \r\nQ 20.796875 -1.421875 13.15625 6.1875 \r\nQ 5.515625 13.8125 5.515625 26.8125 \r\nQ 5.515625 40.234375 12.765625 48.109375 \r\nQ 20.015625 56 32.328125 56 \r\nQ 43.359375 56 49.78125 48.890625 \r\nQ 56.203125 41.796875 56.203125 29.59375 \r\nz\r\nM 47.21875 32.234375 \r\nQ 47.125 39.59375 43.09375 43.984375 \r\nQ 39.0625 48.390625 32.421875 48.390625 \r\nQ 24.90625 48.390625 20.390625 44.140625 \r\nQ 15.875 39.890625 15.1875 32.171875 \r\nz\r\n\" id=\"DejaVuSans-101\"/>\r\n       <path d=\"M 48.6875 27.296875 \r\nQ 48.6875 37.203125 44.609375 42.84375 \r\nQ 40.53125 48.484375 33.40625 48.484375 \r\nQ 26.265625 48.484375 22.1875 42.84375 \r\nQ 18.109375 37.203125 18.109375 27.296875 \r\nQ 18.109375 17.390625 22.1875 11.75 \r\nQ 26.265625 6.109375 33.40625 6.109375 \r\nQ 40.53125 6.109375 44.609375 11.75 \r\nQ 48.6875 17.390625 48.6875 27.296875 \r\nz\r\nM 18.109375 46.390625 \r\nQ 20.953125 51.265625 25.265625 53.625 \r\nQ 29.59375 56 35.59375 56 \r\nQ 45.5625 56 51.78125 48.09375 \r\nQ 58.015625 40.1875 58.015625 27.296875 \r\nQ 58.015625 14.40625 51.78125 6.484375 \r\nQ 45.5625 -1.421875 35.59375 -1.421875 \r\nQ 29.59375 -1.421875 25.265625 0.953125 \r\nQ 20.953125 3.328125 18.109375 8.203125 \r\nL 18.109375 0 \r\nL 9.078125 0 \r\nL 9.078125 75.984375 \r\nL 18.109375 75.984375 \r\nz\r\n\" id=\"DejaVuSans-98\"/>\r\n       <path d=\"M 37.109375 75.984375 \r\nL 37.109375 68.5 \r\nL 28.515625 68.5 \r\nQ 23.6875 68.5 21.796875 66.546875 \r\nQ 19.921875 64.59375 19.921875 59.515625 \r\nL 19.921875 54.6875 \r\nL 34.71875 54.6875 \r\nL 34.71875 47.703125 \r\nL 19.921875 47.703125 \r\nL 19.921875 0 \r\nL 10.890625 0 \r\nL 10.890625 47.703125 \r\nL 2.296875 47.703125 \r\nL 2.296875 54.6875 \r\nL 10.890625 54.6875 \r\nL 10.890625 58.5 \r\nQ 10.890625 67.625 15.140625 71.796875 \r\nQ 19.390625 75.984375 28.609375 75.984375 \r\nz\r\n\" id=\"DejaVuSans-102\"/>\r\n       <path d=\"M 9.421875 54.6875 \r\nL 18.40625 54.6875 \r\nL 18.40625 0 \r\nL 9.421875 0 \r\nz\r\nM 9.421875 75.984375 \r\nL 18.40625 75.984375 \r\nL 18.40625 64.59375 \r\nL 9.421875 64.59375 \r\nz\r\n\" id=\"DejaVuSans-105\"/>\r\n       <path d=\"M 18.3125 70.21875 \r\nL 18.3125 54.6875 \r\nL 36.8125 54.6875 \r\nL 36.8125 47.703125 \r\nL 18.3125 47.703125 \r\nL 18.3125 18.015625 \r\nQ 18.3125 11.328125 20.140625 9.421875 \r\nQ 21.96875 7.515625 27.59375 7.515625 \r\nL 36.8125 7.515625 \r\nL 36.8125 0 \r\nL 27.59375 0 \r\nQ 17.1875 0 13.234375 3.875 \r\nQ 9.28125 7.765625 9.28125 18.015625 \r\nL 9.28125 47.703125 \r\nL 2.6875 47.703125 \r\nL 2.6875 54.6875 \r\nL 9.28125 54.6875 \r\nL 9.28125 70.21875 \r\nz\r\n\" id=\"DejaVuSans-116\"/>\r\n       <path d=\"M 2.984375 54.6875 \r\nL 12.5 54.6875 \r\nL 29.59375 8.796875 \r\nL 46.6875 54.6875 \r\nL 56.203125 54.6875 \r\nL 35.6875 0 \r\nL 23.484375 0 \r\nz\r\n\" id=\"DejaVuSans-118\"/>\r\n       <path d=\"M 8.5 21.578125 \r\nL 8.5 54.6875 \r\nL 17.484375 54.6875 \r\nL 17.484375 21.921875 \r\nQ 17.484375 14.15625 20.5 10.265625 \r\nQ 23.53125 6.390625 29.59375 6.390625 \r\nQ 36.859375 6.390625 41.078125 11.03125 \r\nQ 45.3125 15.671875 45.3125 23.6875 \r\nL 45.3125 54.6875 \r\nL 54.296875 54.6875 \r\nL 54.296875 0 \r\nL 45.3125 0 \r\nL 45.3125 8.40625 \r\nQ 42.046875 3.421875 37.71875 1 \r\nQ 33.40625 -1.421875 27.6875 -1.421875 \r\nQ 18.265625 -1.421875 13.375 4.4375 \r\nQ 8.5 10.296875 8.5 21.578125 \r\nz\r\nM 31.109375 56 \r\nz\r\n\" id=\"DejaVuSans-117\"/>\r\n      </defs>\r\n      <use xlink:href=\"#DejaVuSans-109\"/>\r\n      <use x=\"97.412109\" xlink:href=\"#DejaVuSans-101\"/>\r\n      <use x=\"158.935547\" xlink:href=\"#DejaVuSans-97\"/>\r\n      <use x=\"220.214844\" xlink:href=\"#DejaVuSans-110\"/>\r\n      <use x=\"283.59375\" xlink:href=\"#DejaVuSans-32\"/>\r\n      <use x=\"315.380859\" xlink:href=\"#DejaVuSans-98\"/>\r\n      <use x=\"378.857422\" xlink:href=\"#DejaVuSans-101\"/>\r\n      <use x=\"440.380859\" xlink:href=\"#DejaVuSans-110\"/>\r\n      <use x=\"503.759766\" xlink:href=\"#DejaVuSans-101\"/>\r\n      <use x=\"565.283203\" xlink:href=\"#DejaVuSans-102\"/>\r\n      <use x=\"600.488281\" xlink:href=\"#DejaVuSans-105\"/>\r\n      <use x=\"628.271484\" xlink:href=\"#DejaVuSans-116\"/>\r\n      <use x=\"667.480469\" xlink:href=\"#DejaVuSans-32\"/>\r\n      <use x=\"699.267578\" xlink:href=\"#DejaVuSans-111\"/>\r\n      <use x=\"760.449219\" xlink:href=\"#DejaVuSans-118\"/>\r\n      <use x=\"819.628906\" xlink:href=\"#DejaVuSans-101\"/>\r\n      <use x=\"881.152344\" xlink:href=\"#DejaVuSans-114\"/>\r\n      <use x=\"922.265625\" xlink:href=\"#DejaVuSans-32\"/>\r\n      <use x=\"954.052734\" xlink:href=\"#DejaVuSans-49\"/>\r\n      <use x=\"1017.675781\" xlink:href=\"#DejaVuSans-48\"/>\r\n      <use x=\"1081.298828\" xlink:href=\"#DejaVuSans-48\"/>\r\n      <use x=\"1144.921875\" xlink:href=\"#DejaVuSans-48\"/>\r\n      <use x=\"1208.544922\" xlink:href=\"#DejaVuSans-32\"/>\r\n      <use x=\"1240.332031\" xlink:href=\"#DejaVuSans-114\"/>\r\n      <use x=\"1281.445312\" xlink:href=\"#DejaVuSans-117\"/>\r\n      <use x=\"1344.824219\" xlink:href=\"#DejaVuSans-110\"/>\r\n      <use x=\"1408.203125\" xlink:href=\"#DejaVuSans-115\"/>\r\n     </g>\r\n    </g>\r\n   </g>\r\n   <g id=\"patch_15\">\r\n    <path d=\"M 43.78125 239.758125 \r\nL 43.78125 22.318125 \r\n\" style=\"fill:none;stroke:#000000;stroke-linecap:square;stroke-linejoin:miter;stroke-width:0.8;\"/>\r\n   </g>\r\n   <g id=\"patch_16\">\r\n    <path d=\"M 378.58125 239.758125 \r\nL 378.58125 22.318125 \r\n\" style=\"fill:none;stroke:#000000;stroke-linecap:square;stroke-linejoin:miter;stroke-width:0.8;\"/>\r\n   </g>\r\n   <g id=\"patch_17\">\r\n    <path d=\"M 43.78125 239.758125 \r\nL 378.58125 239.758125 \r\n\" style=\"fill:none;stroke:#000000;stroke-linecap:square;stroke-linejoin:miter;stroke-width:0.8;\"/>\r\n   </g>\r\n   <g id=\"patch_18\">\r\n    <path d=\"M 43.78125 22.318125 \r\nL 378.58125 22.318125 \r\n\" style=\"fill:none;stroke:#000000;stroke-linecap:square;stroke-linejoin:miter;stroke-width:0.8;\"/>\r\n   </g>\r\n   <g id=\"text_14\">\r\n    <!-- Effect of separating tied first placegetters -->\r\n    <g transform=\"translate(85.550625 16.318125)scale(0.12 -0.12)\">\r\n     <defs>\r\n      <path d=\"M 9.8125 72.90625 \r\nL 55.90625 72.90625 \r\nL 55.90625 64.59375 \r\nL 19.671875 64.59375 \r\nL 19.671875 43.015625 \r\nL 54.390625 43.015625 \r\nL 54.390625 34.71875 \r\nL 19.671875 34.71875 \r\nL 19.671875 8.296875 \r\nL 56.78125 8.296875 \r\nL 56.78125 0 \r\nL 9.8125 0 \r\nz\r\n\" id=\"DejaVuSans-69\"/>\r\n      <path d=\"M 18.109375 8.203125 \r\nL 18.109375 -20.796875 \r\nL 9.078125 -20.796875 \r\nL 9.078125 54.6875 \r\nL 18.109375 54.6875 \r\nL 18.109375 46.390625 \r\nQ 20.953125 51.265625 25.265625 53.625 \r\nQ 29.59375 56 35.59375 56 \r\nQ 45.5625 56 51.78125 48.09375 \r\nQ 58.015625 40.1875 58.015625 27.296875 \r\nQ 58.015625 14.40625 51.78125 6.484375 \r\nQ 45.5625 -1.421875 35.59375 -1.421875 \r\nQ 29.59375 -1.421875 25.265625 0.953125 \r\nQ 20.953125 3.328125 18.109375 8.203125 \r\nz\r\nM 48.6875 27.296875 \r\nQ 48.6875 37.203125 44.609375 42.84375 \r\nQ 40.53125 48.484375 33.40625 48.484375 \r\nQ 26.265625 48.484375 22.1875 42.84375 \r\nQ 18.109375 37.203125 18.109375 27.296875 \r\nQ 18.109375 17.390625 22.1875 11.75 \r\nQ 26.265625 6.109375 33.40625 6.109375 \r\nQ 40.53125 6.109375 44.609375 11.75 \r\nQ 48.6875 17.390625 48.6875 27.296875 \r\nz\r\n\" id=\"DejaVuSans-112\"/>\r\n      <path d=\"M 45.40625 27.984375 \r\nQ 45.40625 37.75 41.375 43.109375 \r\nQ 37.359375 48.484375 30.078125 48.484375 \r\nQ 22.859375 48.484375 18.828125 43.109375 \r\nQ 14.796875 37.75 14.796875 27.984375 \r\nQ 14.796875 18.265625 18.828125 12.890625 \r\nQ 22.859375 7.515625 30.078125 7.515625 \r\nQ 37.359375 7.515625 41.375 12.890625 \r\nQ 45.40625 18.265625 45.40625 27.984375 \r\nz\r\nM 54.390625 6.78125 \r\nQ 54.390625 -7.171875 48.1875 -13.984375 \r\nQ 42 -20.796875 29.203125 -20.796875 \r\nQ 24.46875 -20.796875 20.265625 -20.09375 \r\nQ 16.0625 -19.390625 12.109375 -17.921875 \r\nL 12.109375 -9.1875 \r\nQ 16.0625 -11.328125 19.921875 -12.34375 \r\nQ 23.78125 -13.375 27.78125 -13.375 \r\nQ 36.625 -13.375 41.015625 -8.765625 \r\nQ 45.40625 -4.15625 45.40625 5.171875 \r\nL 45.40625 9.625 \r\nQ 42.625 4.78125 38.28125 2.390625 \r\nQ 33.9375 0 27.875 0 \r\nQ 17.828125 0 11.671875 7.65625 \r\nQ 5.515625 15.328125 5.515625 27.984375 \r\nQ 5.515625 40.671875 11.671875 48.328125 \r\nQ 17.828125 56 27.875 56 \r\nQ 33.9375 56 38.28125 53.609375 \r\nQ 42.625 51.21875 45.40625 46.390625 \r\nL 45.40625 54.6875 \r\nL 54.390625 54.6875 \r\nz\r\n\" id=\"DejaVuSans-103\"/>\r\n      <path d=\"M 45.40625 46.390625 \r\nL 45.40625 75.984375 \r\nL 54.390625 75.984375 \r\nL 54.390625 0 \r\nL 45.40625 0 \r\nL 45.40625 8.203125 \r\nQ 42.578125 3.328125 38.25 0.953125 \r\nQ 33.9375 -1.421875 27.875 -1.421875 \r\nQ 17.96875 -1.421875 11.734375 6.484375 \r\nQ 5.515625 14.40625 5.515625 27.296875 \r\nQ 5.515625 40.1875 11.734375 48.09375 \r\nQ 17.96875 56 27.875 56 \r\nQ 33.9375 56 38.25 53.625 \r\nQ 42.578125 51.265625 45.40625 46.390625 \r\nz\r\nM 14.796875 27.296875 \r\nQ 14.796875 17.390625 18.875 11.75 \r\nQ 22.953125 6.109375 30.078125 6.109375 \r\nQ 37.203125 6.109375 41.296875 11.75 \r\nQ 45.40625 17.390625 45.40625 27.296875 \r\nQ 45.40625 37.203125 41.296875 42.84375 \r\nQ 37.203125 48.484375 30.078125 48.484375 \r\nQ 22.953125 48.484375 18.875 42.84375 \r\nQ 14.796875 37.203125 14.796875 27.296875 \r\nz\r\n\" id=\"DejaVuSans-100\"/>\r\n     </defs>\r\n     <use xlink:href=\"#DejaVuSans-69\"/>\r\n     <use x=\"63.183594\" xlink:href=\"#DejaVuSans-102\"/>\r\n     <use x=\"98.388672\" xlink:href=\"#DejaVuSans-102\"/>\r\n     <use x=\"133.59375\" xlink:href=\"#DejaVuSans-101\"/>\r\n     <use x=\"195.117188\" xlink:href=\"#DejaVuSans-99\"/>\r\n     <use x=\"250.097656\" xlink:href=\"#DejaVuSans-116\"/>\r\n     <use x=\"289.306641\" xlink:href=\"#DejaVuSans-32\"/>\r\n     <use x=\"321.09375\" xlink:href=\"#DejaVuSans-111\"/>\r\n     <use x=\"382.275391\" xlink:href=\"#DejaVuSans-102\"/>\r\n     <use x=\"417.480469\" xlink:href=\"#DejaVuSans-32\"/>\r\n     <use x=\"449.267578\" xlink:href=\"#DejaVuSans-115\"/>\r\n     <use x=\"501.367188\" xlink:href=\"#DejaVuSans-101\"/>\r\n     <use x=\"562.890625\" xlink:href=\"#DejaVuSans-112\"/>\r\n     <use x=\"626.367188\" xlink:href=\"#DejaVuSans-97\"/>\r\n     <use x=\"687.646484\" xlink:href=\"#DejaVuSans-114\"/>\r\n     <use x=\"728.759766\" xlink:href=\"#DejaVuSans-97\"/>\r\n     <use x=\"790.039062\" xlink:href=\"#DejaVuSans-116\"/>\r\n     <use x=\"829.248047\" xlink:href=\"#DejaVuSans-105\"/>\r\n     <use x=\"857.03125\" xlink:href=\"#DejaVuSans-110\"/>\r\n     <use x=\"920.410156\" xlink:href=\"#DejaVuSans-103\"/>\r\n     <use x=\"983.886719\" xlink:href=\"#DejaVuSans-32\"/>\r\n     <use x=\"1015.673828\" xlink:href=\"#DejaVuSans-116\"/>\r\n     <use x=\"1054.882812\" xlink:href=\"#DejaVuSans-105\"/>\r\n     <use x=\"1082.666016\" xlink:href=\"#DejaVuSans-101\"/>\r\n     <use x=\"1144.189453\" xlink:href=\"#DejaVuSans-100\"/>\r\n     <use x=\"1207.666016\" xlink:href=\"#DejaVuSans-32\"/>\r\n     <use x=\"1239.453125\" xlink:href=\"#DejaVuSans-102\"/>\r\n     <use x=\"1274.658203\" xlink:href=\"#DejaVuSans-105\"/>\r\n     <use x=\"1302.441406\" xlink:href=\"#DejaVuSans-114\"/>\r\n     <use x=\"1343.554688\" xlink:href=\"#DejaVuSans-115\"/>\r\n     <use x=\"1395.654297\" xlink:href=\"#DejaVuSans-116\"/>\r\n     <use x=\"1434.863281\" xlink:href=\"#DejaVuSans-32\"/>\r\n     <use x=\"1466.650391\" xlink:href=\"#DejaVuSans-112\"/>\r\n     <use x=\"1530.126953\" xlink:href=\"#DejaVuSans-108\"/>\r\n     <use x=\"1557.910156\" xlink:href=\"#DejaVuSans-97\"/>\r\n     <use x=\"1619.189453\" xlink:href=\"#DejaVuSans-99\"/>\r\n     <use x=\"1674.169922\" xlink:href=\"#DejaVuSans-101\"/>\r\n     <use x=\"1735.693359\" xlink:href=\"#DejaVuSans-103\"/>\r\n     <use x=\"1799.169922\" xlink:href=\"#DejaVuSans-101\"/>\r\n     <use x=\"1860.693359\" xlink:href=\"#DejaVuSans-116\"/>\r\n     <use x=\"1899.902344\" xlink:href=\"#DejaVuSans-116\"/>\r\n     <use x=\"1939.111328\" xlink:href=\"#DejaVuSans-101\"/>\r\n     <use x=\"2000.634766\" xlink:href=\"#DejaVuSans-114\"/>\r\n     <use x=\"2041.748047\" xlink:href=\"#DejaVuSans-115\"/>\r\n    </g>\r\n   </g>\r\n  </g>\r\n </g>\r\n <defs>\r\n  <clipPath id=\"p88da086914\">\r\n   <rect height=\"217.44\" width=\"334.8\" x=\"43.78125\" y=\"22.318125\"/>\r\n  </clipPath>\r\n </defs>\r\n</svg>\r\n",
      "image/png": "[encoded data removed]"
     },
     "metadata": {
      "needs_background": "light"
     }
    }
   ],
   "source": [
    "runs = 1000\n",
    "compare_cumulative = np.empty(n)\n",
    "\n",
    "for r in range(runs):\n",
    "    school_scores = np.random.normal(mean, sd, n-1)\n",
    "    school_scores = np.rint(school_scores) #convert to integer scores\n",
    "    # make sure no value is greater than school_max\n",
    "    school_scores = np.minimum(school_scores, school_max-1)\n",
    "    school_scores = np.sort(school_scores)\n",
    "    \n",
    "    school_score_tied = np.append(school_scores, np.amax(school_scores))\n",
    "    school_score_sep = np.append(school_scores, np.amax(school_scores)+1)\n",
    "    \n",
    "    exam_scores = school_score_tied + np.random.normal(mean_imp, sd_imp, n)\n",
    "    exam_scores = np.minimum(exam_scores, 99)\n",
    "    exam_scores = np.rint(exam_scores)\n",
    "\n",
    "    stats_tied = get_stats(school_score_tied)\n",
    "    stats_sep = get_stats(school_score_sep)\n",
    "    stats_exam = get_stats(exam_scores)\n",
    "    stats_exam_tied = get_stats(exam_scores, tied=True)\n",
    "\n",
    "    #calculate the polynomial coefficients\n",
    "    poly_fit_tied = np.polyfit(stats_tied, stats_exam_tied, 2)\n",
    "    poly_fit_sep = np.polyfit(stats_sep, stats_exam, 2)\n",
    "\n",
    "    moderated_tied = poly_fit_tied[0]*np.power(school_score_tied, 2)+ poly_fit_tied[1]*school_score_tied + poly_fit_tied[2]\n",
    "    moderated_tied = np.rint(moderated_tied)\n",
    "    moderated_sep = poly_fit_sep[0]*np.power(school_score_sep, 2)+ poly_fit_sep[1]*school_score_sep + poly_fit_sep[2]\n",
    "    moderated_sep = np.rint(moderated_sep)\n",
    "    compare_tied_sep = moderated_sep - moderated_tied\n",
    "\n",
    "    compare_cumulative = compare_cumulative + compare_tied_sep\n",
    "\n",
    "compare_cumulative = np.flip(compare_cumulative)\n",
    "plt.bar(np.arange(n) + 1, compare_cumulative / runs)\n",
    "plt.xlabel('school rank')\n",
    "plt.ylabel(f'mean benefit over {runs} runs')\n",
    "plt.title('Effect of separating tied first placegetters')"
   ]
  },
  {
   "cell_type": "markdown",
   "metadata": {},
   "source": [
    "## Interpretation of results\n",
    "\n",
    "The plot above shows the mean benefit by rank for the multiple runs. Each time this analysis hase been run, it is clear that separating tied students benefits the group overall, but the benefit is significantly skewed towards the better ranked students at the expense of those with lower ranks. Splitting top students who would otherwise be tied has no educational justification, but teachers may be able to justify it on the basis of an overall benefit to the class. However they need to acknowledge that by doing so they are in all likelyhood disadvantaging the lower ranked students.\n",
    "\n",
    " If you intend to play God remember...\"to the one who has, more will be given, and from the one who has not, even what he thinks that he has will be taken away.\""
   ]
  },
  {
   "cell_type": "code",
   "execution_count": null,
   "metadata": {},
   "outputs": [],
   "source": []
  },
  {
   "cell_type": "code",
   "execution_count": null,
   "metadata": {},
   "outputs": [],
   "source": []
  }
 ],
 "metadata": {
  "kernelspec": {
   "display_name": "Python 3",
   "language": "python",
   "name": "python3"
  },
  "language_info": {
   "codemirror_mode": {
    "name": "ipython",
    "version": 3
   },
   "file_extension": ".py",
   "mimetype": "text/x-python",
   "name": "python",
   "nbconvert_exporter": "python",
   "pygments_lexer": "ipython3",
   "version": "3.7.9-final"
  }
 },
 "nbformat": 4,
 "nbformat_minor": 4
}