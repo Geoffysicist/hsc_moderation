{
 "cells": [
  {
   "cell_type": "markdown",
   "metadata": {},
   "source": [
    "# Analysis of HSC moderation of tied marks\n",
    "\n",
    "## Summary\n",
    "If school based assessment results in tied marks for first place, there is an overall benefit to the moderated HSC scores of the class if some means is used to separate the students. However, this process advantages highly ranked students at the expense of lower ranked students and has no educational jsutification.\n",
    "\n",
    "## Rationale\n",
    "\n",
    "Every year, around the end of term 3, there is a lot of discussion around the subject of what to do if two HSC students are tied for first place after school based assessment. This discussion arises from a perception that the [algorithm used by NESA to moderate school marks](https://educationstandards.nsw.edu.au/wps/portal/nesa/11-12/hsc/about-HSC/moderation), in light of the students' HSC examination performance, disadvantages students if tied results ae submitted. One school of thought dictates that students should be separated by some means, valid ortherwise. The alternative view is that separating students has no educational nor moral justification.\n",
    "\n",
    "This analysis focusses on the effect of spearating students on their final scores and the scores of other students in the class. Questions of whether such actions are justified are addressed at the end of the analysis.\n",
    "\n",
    "## Method\n",
    "The effect of NESA moderation on tied marks is explored using a Python based simulation. A class of size `n` is assumed to have a normally distributed school based assessment with a specified `mean` and standard variation, `sd`. In one case, `school_scores_tied`, the scores are manipulated to ensure that the two top students are equal. In the alternative case `school_scores_sep`, the scores are separated by adding 1 mark to the score of one of the top students.\n",
    "\n",
    "HSC examination scores are assumed to have a normally distributed variation from the school assessment scores with a standard deviation of `sd_imp`. The parameter `mean_imp` can be used to specify a mean improvement in examination scores relative to school assessment - this parameter can be positive, negative or 0.\n",
    "\n",
    "This analysis is initially completed once and the moderated scores of the tied group is compared to that of the spearated group to allow a visual appreciation of the effect of moderation. Because of the random generation, the results of this analysis change each time the analysis is run.\n",
    "\n",
    "The analysis is then completed `runs` times, and the average effect of the moderation process on the scores of the tied and separated groups are compared by rank.\n",
    "\n",
    "### Moderation algorithm\n",
    "\n",
    "Moderation is achieved through a second order polynomial whereby the input x values are the school assessment scores and the output y values are the moderated schores. The coefficients of the polynomial are determined by fitting a curve to the following 3 [x,y] pairs:\n",
    "\n",
    "- [school minimum score, exam minimum score]\n",
    "- [school mean score, exam mean score]\n",
    "- [school maximum score, exam maximum score]\n",
    "\n",
    "### Analysis\n",
    "First we need to set up the python environment - you can ignore this stuff"
   ]
  },
  {
   "cell_type": "code",
   "execution_count": 2,
   "metadata": {},
   "outputs": [],
   "source": [
    "import numpy as np\n",
    "import matplotlib.pyplot as plt\n",
    "\n",
    "# function to calculate the stats needed to fit the polynomial\n",
    "def get_stats(in_array, tied = False):\n",
    "    if tied:\n",
    "        # in the case of tied rankings NESA averages the two top exam marks before fitting the polynomial\n",
    "        # need to calculate this tied mark before calculating poly_fit_tied\n",
    "        top_mark = np.rint((in_array[n-2] + in_array[n-1])/2)\n",
    "        stats = np.array([np.amin(in_array), np.rint(np.mean(in_array)), top_mark])\n",
    "    else:\n",
    "        stats = np.array([np.amin(in_array), np.rint(np.mean(in_array)), np.amax(in_array)])\n",
    "    return stats"
   ]
  },
  {
   "cell_type": "markdown",
   "metadata": {},
   "source": [
    "Assumptions which can be adjusted by altering the variables in the code box below:\n",
    "\n",
    "- n = 12; the number of students in the class\n",
    "- mean = 65; the mean school assessment score\n",
    "- sd = 15; the standard deviation of the school assessment scores\n",
    "- school_max = 95; the maximum value for the school based asessment. Keep less than 100\n",
    "- mean_imp = 5; the mean of the improvement in HSC examination scores compared to school based assessment. This can be set to a positive or negative value.\n",
    "- sd_imp = 7; the standard deviastion of the improvement in HSC examination scores compared to school based assessment. \n"
   ]
  },
  {
   "cell_type": "code",
   "execution_count": 28,
   "metadata": {},
   "outputs": [],
   "source": [
    "n = 12\n",
    "mean = 65\n",
    "sd = 15\n",
    "mean_imp = 5\n",
    "sd_imp = 7\n",
    "school_max = 95"
   ]
  },
  {
   "cell_type": "markdown",
   "metadata": {},
   "source": [
    "Create the school assessment array consisting of n-1 integer scores (we will limit the maximum score to `school_max`)."
   ]
  },
  {
   "cell_type": "code",
   "execution_count": 29,
   "metadata": {},
   "outputs": [
    {
     "name": "stdout",
     "output_type": "stream",
     "text": [
      "n-1 school scores: [53. 63. 65. 68. 70. 70. 72. 77. 81. 83. 94.]\n"
     ]
    }
   ],
   "source": [
    "school_scores = np.random.normal(mean, sd, n-1)\n",
    "school_scores = np.rint(school_scores) #convert to integer scores\n",
    "# make sure no value is greater than school_max - 1\n",
    "school_scores = np.minimum(school_scores, school_max-1)\n",
    "school_scores = np.sort(school_scores)\n",
    "\n",
    "print(f'n-1 school scores: {school_scores}')"
   ]
  },
  {
   "cell_type": "markdown",
   "metadata": {},
   "source": [
    "Add the top score. We create 1 group with a tied top score (`school_score_tied`), and a second group with a top score that hase been increased by one (`school_score_sep`)."
   ]
  },
  {
   "cell_type": "code",
   "execution_count": 30,
   "metadata": {},
   "outputs": [
    {
     "name": "stdout",
     "output_type": "stream",
     "text": [
      "tied school scores:      [53. 63. 65. 68. 70. 70. 72. 77. 81. 83. 94. 94.]\n",
      "separated school scores: [53. 63. 65. 68. 70. 70. 72. 77. 81. 83. 94. 95.]\n"
     ]
    }
   ],
   "source": [
    "school_score_tied = np.append(school_scores, np.amax(school_scores))\n",
    "print(f'tied school scores:      {school_score_tied}')\n",
    "school_score_sep = np.append(school_scores, np.amax(school_scores)+1)\n",
    "print(f'separated school scores: {school_score_sep}')"
   ]
  },
  {
   "cell_type": "markdown",
   "metadata": {},
   "source": [
    "Create an array of HSC exam scores by randomly varying the the school scores by a mean of `mean_imp` with a standard deviation of `sd_imp`. A crude limit is imposed to ensure that no exam score exceeds 99."
   ]
  },
  {
   "cell_type": "code",
   "execution_count": 31,
   "metadata": {},
   "outputs": [
    {
     "name": "stdout",
     "output_type": "stream",
     "text": [
      "tied school scores:      [53. 63. 65. 68. 70. 70. 72. 77. 81. 83. 94. 94.]\n",
      "separated school scores: [53. 63. 65. 68. 70. 70. 72. 77. 81. 83. 94. 95.]\n",
      "exam scores:             [66. 72. 89. 59. 82. 85. 79. 66. 80. 83. 97. 91.]\n"
     ]
    }
   ],
   "source": [
    "exam_scores = school_score_tied + np.random.normal(mean_imp, sd_imp, n)\n",
    "exam_scores = np.minimum(exam_scores, 99)\n",
    "exam_scores = np.rint(exam_scores)\n",
    "print(f'tied school scores:      {school_score_tied}')\n",
    "print(f'separated school scores: {school_score_sep}')\n",
    "print(f'exam scores:             {exam_scores}')"
   ]
  },
  {
   "cell_type": "markdown",
   "metadata": {},
   "source": [
    "Moderate the school scores by adjusting the school assessment minimum, mean and maximum to the exam score minimum, mean and maximum then moderating the school assessment using a second order polynomial."
   ]
  },
  {
   "cell_type": "code",
   "execution_count": 32,
   "metadata": {},
   "outputs": [
    {
     "name": "stdout",
     "output_type": "stream",
     "text": [
      "tied scores statistics:      min = 53.0, mean = 74.0, max = 94.0\n",
      "separated scores statistics: min = 53.0, mean = 74.0, max = 95.0\n",
      "exam scores statistics:      min = 59.0, mean = 79.0, max = 97.0\n",
      "tied exam scores statistics: min = 59.0, mean = 79.0, max = 94.0\n",
      "moderated marks for tied group:      [59. 69. 71. 74. 76. 76. 77. 82. 85. 86. 94. 94.]\n",
      "moderated marks for separated group: [59. 69. 71. 73. 75. 75. 77. 82. 85. 87. 96. 97.]\n"
     ]
    }
   ],
   "source": [
    "stats_tied = get_stats(school_score_tied)\n",
    "print(f'tied scores statistics:      min = {stats_tied[0]}, mean = {stats_tied[1]}, max = {stats_tied[2]}')\n",
    "stats_sep = get_stats(school_score_sep)\n",
    "print(f'separated scores statistics: min = {stats_sep[0]}, mean = {stats_sep[1]}, max = {stats_sep[2]}')\n",
    "stats_exam = get_stats(exam_scores)\n",
    "print(f'exam scores statistics:      min = {stats_exam[0]}, mean = {stats_exam[1]}, max = {stats_exam[2]}')\n",
    "stats_exam_tied = get_stats(exam_scores, tied=True)\n",
    "print(f'tied exam scores statistics: min = {stats_exam_tied[0]}, mean = {stats_exam_tied[1]}, max = {stats_exam_tied[2]}')\n",
    "\n",
    "#calculate the polynomial coefficients\n",
    "poly_fit_tied = np.polyfit(stats_tied, stats_exam_tied, 2)\n",
    "poly_fit_sep = np.polyfit(stats_sep, stats_exam, 2)\n",
    "\n",
    "moderated_tied = poly_fit_tied[0]*np.power(school_score_tied, 2)+ poly_fit_tied[1]*school_score_tied + poly_fit_tied[2]\n",
    "moderated_tied = np.rint(moderated_tied)\n",
    "print(f'moderated marks for tied group:      {moderated_tied}')\n",
    "moderated_sep = poly_fit_sep[0]*np.power(school_score_sep, 2)+ poly_fit_sep[1]*school_score_sep + poly_fit_sep[2]\n",
    "moderated_sep = np.rint(moderated_sep)\n",
    "print(f'moderated marks for separated group: {moderated_sep}')"
   ]
  },
  {
   "cell_type": "markdown",
   "metadata": {},
   "source": [
    "Compare the resultant moderated and school scores for the tied group (blue) and the separated group (red)"
   ]
  },
  {
   "cell_type": "code",
   "execution_count": 33,
   "metadata": {},
   "outputs": [
    {
     "data": {
      "text/plain": [
       "<matplotlib.collections.PathCollection at 0x1883a2e5b88>"
      ]
     },
     "execution_count": 33,
     "metadata": {},
     "output_type": "execute_result"
    },
    {
     "data": {
      "image/png": "[encoded data removed]",
      "text/plain": [
       "<Figure size 432x288 with 1 Axes>"
      ]
     },
     "metadata": {
      "needs_background": "light"
     },
     "output_type": "display_data"
    }
   ],
   "source": [
    "plt.scatter(school_score_tied, moderated_tied, c='blue')\n",
    "plt.scatter(school_score_sep, moderated_sep, c='red')\n"
   ]
  },
  {
   "cell_type": "markdown",
   "metadata": {},
   "source": [
    "Compare the result for each student under each scenario. "
   ]
  },
  {
   "cell_type": "code",
   "execution_count": 34,
   "metadata": {},
   "outputs": [
    {
     "name": "stdout",
     "output_type": "stream",
     "text": [
      "Effect on moderated mark as a result of spearating the top students. Listed in reverse rank order\n",
      "[ 0.  0.  0. -1. -1. -1.  0.  0.  0.  1.  2.  3.]\n"
     ]
    }
   ],
   "source": [
    "compare_tied_sep = moderated_sep - moderated_tied\n",
    "print(f'Effect on moderated mark as a result of spearating the top students. Listed in reverse rank order')\n",
    "print(f'{compare_tied_sep}')"
   ]
  },
  {
   "cell_type": "markdown",
   "metadata": {},
   "source": [
    "Now lets do this `runs` times and see who the winners and losers are."
   ]
  },
  {
   "cell_type": "code",
   "execution_count": 11,
   "metadata": {},
   "outputs": [
    {
     "data": {
      "text/plain": [
       "<BarContainer object of 12 artists>"
      ]
     },
     "execution_count": 11,
     "metadata": {},
     "output_type": "execute_result"
    },
    {
     "data": {
      "image/png": "[encoded data removed]",
      "text/plain": [
       "<Figure size 432x288 with 1 Axes>"
      ]
     },
     "metadata": {
      "needs_background": "light"
     },
     "output_type": "display_data"
    }
   ],
   "source": [
    "runs = 1000\n",
    "compare_cumulative = np.empty(n)\n",
    "\n",
    "for r in range(runs):\n",
    "    school_scores = np.random.normal(mean, sd, n-1)\n",
    "    school_scores = np.rint(school_scores) #convert to integer scores\n",
    "    # make sure no value is greater than school_max\n",
    "    school_scores = np.minimum(school_scores, school_max-1)\n",
    "    school_scores = np.sort(school_scores)\n",
    "    \n",
    "    school_score_tied = np.append(school_scores, np.amax(school_scores))\n",
    "    school_score_sep = np.append(school_scores, np.amax(school_scores)+1)\n",
    "    \n",
    "    exam_scores = school_score_tied + np.random.normal(mean_imp, sd_imp, n)\n",
    "    exam_scores = np.minimum(exam_scores, 99)\n",
    "    exam_scores = np.rint(exam_scores)\n",
    "\n",
    "    stats_tied = get_stats(school_score_tied)\n",
    "    stats_sep = get_stats(school_score_sep)\n",
    "    stats_exam = get_stats(exam_scores)\n",
    "    stats_exam_tied = get_stats(exam_scores, tied=True)\n",
    "\n",
    "    #calculate the polynomial coefficients\n",
    "    poly_fit_tied = np.polyfit(stats_tied, stats_exam_tied, 2)\n",
    "    poly_fit_sep = np.polyfit(stats_sep, stats_exam, 2)\n",
    "\n",
    "    moderated_tied = poly_fit_tied[0]*np.power(school_score_tied, 2)+ poly_fit_tied[1]*school_score_tied + poly_fit_tied[2]\n",
    "    moderated_tied = np.rint(moderated_tied)\n",
    "    moderated_sep = poly_fit_sep[0]*np.power(school_score_sep, 2)+ poly_fit_sep[1]*school_score_sep + poly_fit_sep[2]\n",
    "    moderated_sep = np.rint(moderated_sep)\n",
    "    compare_tied_sep = moderated_sep - moderated_tied\n",
    "\n",
    "    compare_cumulative = compare_cumulative + compare_tied_sep\n",
    "\n",
    "compare_cumulative = np.flip(compare_cumulative)\n",
    "plt.bar(np.arange(n) + 1, compare_cumulative / runs)\n",
    "    "
   ]
  }
 ],
 "metadata": {
  "kernelspec": {
   "display_name": "Python 3",
   "language": "python",
   "name": "python3"
  },
  "language_info": {
   "codemirror_mode": {
    "name": "ipython",
    "version": 3
   },
   "file_extension": ".py",
   "mimetype": "text/x-python",
   "name": "python",
   "nbconvert_exporter": "python",
   "pygments_lexer": "ipython3",
   "version": "3.7.9"
  }
 },
 "nbformat": 4,
 "nbformat_minor": 4
}
